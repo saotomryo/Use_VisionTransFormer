{
  "nbformat": 4,
  "nbformat_minor": 0,
  "metadata": {
    "colab": {
      "name": "Vision _Transfomer_with_Cross_val.ipynb",
      "provenance": [],
      "collapsed_sections": [],
      "mount_file_id": "https://github.com/saotomryo/Use_VisionTransFormer/blob/main/Vision__Transfomer_with_Cross_val.ipynb",
      "authorship_tag": "ABX9TyPNTnS84BAyuWuLLTPSi3Nz",
      "include_colab_link": true
    },
    "kernelspec": {
      "name": "python3",
      "display_name": "Python 3"
    },
    "language_info": {
      "name": "python"
    },
    "accelerator": "GPU"
  },
  "cells": [
    {
      "cell_type": "markdown",
      "metadata": {
        "id": "view-in-github",
        "colab_type": "text"
      },
      "source": [
        "<a href=\"https://colab.research.google.com/github/saotomryo/Use_VisionTransFormer/blob/main/Vision__Transfomer_with_Cross_val.ipynb\" target=\"_parent\"><img src=\"https://colab.research.google.com/assets/colab-badge.svg\" alt=\"Open In Colab\"/></a>"
      ]
    },
    {
      "cell_type": "markdown",
      "metadata": {
        "id": "LiP6RDuNId-1"
      },
      "source": [
        "## トランスフォーマー等のインストールコンポーネントのインストール"
      ]
    },
    {
      "cell_type": "code",
      "metadata": {
        "colab": {
          "base_uri": "https://localhost:8080/"
        },
        "id": "n3TGIv6zthpb",
        "outputId": "d9452277-2fa6-461a-ee21-8a15d53856dc"
      },
      "source": [
        "!pip install transformers\n",
        "!pip list | grep transformers\n",
        "!pip install git+https://github.com/ildoonet/pytorch-gradual-warmup-lr.git"
      ],
      "execution_count": 1,
      "outputs": [
        {
          "output_type": "stream",
          "name": "stdout",
          "text": [
            "Collecting transformers\n",
            "  Downloading transformers-4.11.3-py3-none-any.whl (2.9 MB)\n",
            "\u001b[K     |████████████████████████████████| 2.9 MB 7.0 MB/s \n",
            "\u001b[?25hRequirement already satisfied: tqdm>=4.27 in /usr/local/lib/python3.7/dist-packages (from transformers) (4.62.3)\n",
            "Requirement already satisfied: numpy>=1.17 in /usr/local/lib/python3.7/dist-packages (from transformers) (1.19.5)\n",
            "Collecting huggingface-hub>=0.0.17\n",
            "  Downloading huggingface_hub-0.0.19-py3-none-any.whl (56 kB)\n",
            "\u001b[K     |████████████████████████████████| 56 kB 4.5 MB/s \n",
            "\u001b[?25hCollecting pyyaml>=5.1\n",
            "  Downloading PyYAML-5.4.1-cp37-cp37m-manylinux1_x86_64.whl (636 kB)\n",
            "\u001b[K     |████████████████████████████████| 636 kB 69.4 MB/s \n",
            "\u001b[?25hRequirement already satisfied: regex!=2019.12.17 in /usr/local/lib/python3.7/dist-packages (from transformers) (2019.12.20)\n",
            "Requirement already satisfied: packaging>=20.0 in /usr/local/lib/python3.7/dist-packages (from transformers) (21.0)\n",
            "Collecting tokenizers<0.11,>=0.10.1\n",
            "  Downloading tokenizers-0.10.3-cp37-cp37m-manylinux_2_5_x86_64.manylinux1_x86_64.manylinux_2_12_x86_64.manylinux2010_x86_64.whl (3.3 MB)\n",
            "\u001b[K     |████████████████████████████████| 3.3 MB 60.4 MB/s \n",
            "\u001b[?25hRequirement already satisfied: requests in /usr/local/lib/python3.7/dist-packages (from transformers) (2.23.0)\n",
            "Requirement already satisfied: importlib-metadata in /usr/local/lib/python3.7/dist-packages (from transformers) (4.8.1)\n",
            "Requirement already satisfied: filelock in /usr/local/lib/python3.7/dist-packages (from transformers) (3.3.0)\n",
            "Collecting sacremoses\n",
            "  Downloading sacremoses-0.0.46-py3-none-any.whl (895 kB)\n",
            "\u001b[K     |████████████████████████████████| 895 kB 59.2 MB/s \n",
            "\u001b[?25hRequirement already satisfied: typing-extensions in /usr/local/lib/python3.7/dist-packages (from huggingface-hub>=0.0.17->transformers) (3.7.4.3)\n",
            "Requirement already satisfied: pyparsing>=2.0.2 in /usr/local/lib/python3.7/dist-packages (from packaging>=20.0->transformers) (2.4.7)\n",
            "Requirement already satisfied: zipp>=0.5 in /usr/local/lib/python3.7/dist-packages (from importlib-metadata->transformers) (3.6.0)\n",
            "Requirement already satisfied: idna<3,>=2.5 in /usr/local/lib/python3.7/dist-packages (from requests->transformers) (2.10)\n",
            "Requirement already satisfied: certifi>=2017.4.17 in /usr/local/lib/python3.7/dist-packages (from requests->transformers) (2021.5.30)\n",
            "Requirement already satisfied: urllib3!=1.25.0,!=1.25.1,<1.26,>=1.21.1 in /usr/local/lib/python3.7/dist-packages (from requests->transformers) (1.24.3)\n",
            "Requirement already satisfied: chardet<4,>=3.0.2 in /usr/local/lib/python3.7/dist-packages (from requests->transformers) (3.0.4)\n",
            "Requirement already satisfied: click in /usr/local/lib/python3.7/dist-packages (from sacremoses->transformers) (7.1.2)\n",
            "Requirement already satisfied: six in /usr/local/lib/python3.7/dist-packages (from sacremoses->transformers) (1.15.0)\n",
            "Requirement already satisfied: joblib in /usr/local/lib/python3.7/dist-packages (from sacremoses->transformers) (1.0.1)\n",
            "Installing collected packages: pyyaml, tokenizers, sacremoses, huggingface-hub, transformers\n",
            "  Attempting uninstall: pyyaml\n",
            "    Found existing installation: PyYAML 3.13\n",
            "    Uninstalling PyYAML-3.13:\n",
            "      Successfully uninstalled PyYAML-3.13\n",
            "Successfully installed huggingface-hub-0.0.19 pyyaml-5.4.1 sacremoses-0.0.46 tokenizers-0.10.3 transformers-4.11.3\n",
            "transformers                  4.11.3\n",
            "Collecting git+https://github.com/ildoonet/pytorch-gradual-warmup-lr.git\n",
            "  Cloning https://github.com/ildoonet/pytorch-gradual-warmup-lr.git to /tmp/pip-req-build-2zylnj59\n",
            "  Running command git clone -q https://github.com/ildoonet/pytorch-gradual-warmup-lr.git /tmp/pip-req-build-2zylnj59\n",
            "Building wheels for collected packages: warmup-scheduler\n",
            "  Building wheel for warmup-scheduler (setup.py) ... \u001b[?25l\u001b[?25hdone\n",
            "  Created wheel for warmup-scheduler: filename=warmup_scheduler-0.3.2-py3-none-any.whl size=3879 sha256=67c1b0c8dacf92b2f3ddf8ef3177968d01189fcf8eda087af039dceae931c07f\n",
            "  Stored in directory: /tmp/pip-ephem-wheel-cache-_hv9_e4n/wheels/bf/81/52/0e3bc0b645a339f94c76b4dcb8c8b7a5f588a614f5add83b9f\n",
            "Successfully built warmup-scheduler\n",
            "Installing collected packages: warmup-scheduler\n",
            "Successfully installed warmup-scheduler-0.3.2\n"
          ]
        }
      ]
    },
    {
      "cell_type": "markdown",
      "metadata": {
        "id": "7_-xt4g_I20j"
      },
      "source": [
        "## 利用するパッケージのインポート"
      ]
    },
    {
      "cell_type": "code",
      "metadata": {
        "id": "AKaUxu4QyMeF"
      },
      "source": [
        "from PIL import Image\n",
        "import os\n",
        "from glob import glob\n",
        "\n",
        "import pandas as pd\n",
        "import torch\n",
        "from torchvision import transforms\n",
        "import numpy as np\n",
        "from sklearn.model_selection import train_test_split\n",
        "from torch.utils.data import Dataset, DataLoader\n",
        "from tqdm import tqdm\n",
        "import torch.nn as nn\n",
        "import torch.nn.functional as F\n",
        "import torch.optim as optim\n",
        "from sklearn.metrics import f1_score,accuracy_score\n",
        "from sklearn.model_selection import StratifiedKFold\n",
        "from statistics import mean\n",
        "\n",
        "import warmup_scheduler\n",
        "from transformers import ViTFeatureExtractor, ViTModel"
      ],
      "execution_count": 2,
      "outputs": []
    },
    {
      "cell_type": "markdown",
      "metadata": {
        "id": "q3sYy4_lJGLO"
      },
      "source": [
        "学習を行う対象フォルダ\n",
        "へ移動\n",
        "\n",
        "対象フォルダは以下の形式となっていることとする\n",
        "\n",
        "全体のフォルダ\n",
        "\n",
        "　- ラベル付けを行うフォルダ（フォルダ名を正解ラベルの名前をしてください）\n",
        "\n",
        "　　　　　- 各画像ファイル\n"
      ]
    },
    {
      "cell_type": "code",
      "metadata": {
        "id": "7QJCTb9eBcvm"
      },
      "source": [
        "# zipファイルをアップロードした時の対応\n",
        "import zipfile\n",
        "with zipfile.ZipFile('回答する\bzipファイル') as existing_zip:\n",
        "    existing_zip.extractall()\n"
      ],
      "execution_count": 63,
      "outputs": []
    },
    {
      "cell_type": "code",
      "metadata": {
        "id": "PuSsZB7MTRyI",
        "colab": {
          "base_uri": "https://localhost:8080/"
        },
        "outputId": "14302bd3-099b-441f-a5e4-c7d3e454fc21"
      },
      "source": [
        "%cd 対象フォルダ\n",
        "\n",
        "folders = os.listdir(\"./\")"
      ],
      "execution_count": 3,
      "outputs": [
        {
          "output_type": "stream",
          "name": "stdout",
          "text": [
            "/content/drive/MyDrive/AIQUEST/train_resize.\n"
          ]
        }
      ]
    },
    {
      "cell_type": "code",
      "metadata": {
        "id": "oH-Gsx_ivEfv"
      },
      "source": [
        "tmp = []\n",
        "\n",
        "for folder in folders:\n",
        "    if folder[0] != '.':\n",
        "        filiename_list = glob('./' + folder + '/*.jpeg')\n",
        "        for filename in filiename_list:\n",
        "            category = folder\n",
        "            tmp.append([filename,category])\n",
        "\n",
        "# １レコードがファイルパスとカテゴリー（正解ラベル）になるようにDataFrameにまとめる\n",
        "train_df = pd.DataFrame(tmp, columns=['path', 'category'])\n",
        "\n",
        "# カテゴリーをID（数値）に変換した列を追加する\n",
        "categories = train_df['category'].unique().tolist()\n",
        "train_df['category_id'] = train_df['category'].map(lambda x: categories.index(x))\n"
      ],
      "execution_count": 4,
      "outputs": []
    },
    {
      "cell_type": "code",
      "metadata": {
        "id": "HydzA6CBt2S3"
      },
      "source": [
        "# データの前処理及びデータ水増し\n",
        "\n",
        "transform = transforms.Compose([\n",
        "    transforms.RandomRotation(degrees=(-10,10)), # 5度の範囲で画像をランダムに回転\n",
        "    transforms.RandomHorizontalFlip(), # 水扁反転\n",
        "    transforms.RandomVerticalFlip(), # 垂直反転\n",
        "    transforms.RandomResizedCrop(size=(224,224),scale=(0.9,0.9),ratio=(1.0,1.0)), # アスペクト比を保って、0.9倍のサイズでランダムに画像を224x224に切り出し\n",
        "    transforms.ToTensor(),\n",
        "    transforms.RandomErasing(p=0.2, scale=(0.02, 0.03)),# ランダムに画像の一部を削除\n",
        "    transforms.Normalize((0.485, 0.456, 0.406), (0.229, 0.224, 0.225)), # ImageNetに合わせて画像の標準化\n",
        "])\n",
        "val_transform = transforms.Compose([ # 検証データ用の画像の前処理\n",
        "    transforms.RandomResizedCrop(size=(224,224),scale=(1.0,1.0),ratio=(1.0,1.0)), # アスペクト比を保って画像をリサイズ\n",
        "    transforms.ToTensor(),\n",
        "    transforms.Normalize((0.485, 0.456, 0.406), (0.229, 0.224, 0.225)),\n",
        "])\n",
        "\n"
      ],
      "execution_count": 48,
      "outputs": []
    },
    {
      "cell_type": "markdown",
      "metadata": {
        "id": "gfM2KXwNLSCg"
      },
      "source": [
        "# データセットを定義する"
      ]
    },
    {
      "cell_type": "code",
      "metadata": {
        "id": "5kOdKIWvw7rN"
      },
      "source": [
        "\n",
        "class TrainData(Dataset):\n",
        "    def __init__(self, df, phase):\n",
        "        self.images = []\n",
        "        self.categories = []\n",
        "\n",
        "        for row in tqdm(df.itertuples(), total=df.shape[0]):\n",
        "            path = row.path\n",
        "            # 正解ラベルなしのテストデータの場合は、\bcategory_idを0とする\n",
        "            if phase != 'test':\n",
        "                category = row.category_id\n",
        "            else:\n",
        "                category = 0\n",
        "            image = Image.open(path)\n",
        "\n",
        "            # 学習用データの定義\n",
        "            if phase == 'train':\n",
        "\n",
        "                try:\n",
        "                    # 学習用の処理を行なったデータ\n",
        "                    feature_ids = torch.reshape(transform(image),(-1, 3, 224, 224)).squeeze(0)\n",
        "                    self.images.append(feature_ids)\n",
        "                    self.categories.append(category)\n",
        "                    # 学習用の処理を行なっていないデータ\n",
        "                    feature_ids = torch.reshape(val_transform(image),(-1, 3, 224, 224)).squeeze(0)\n",
        "                    self.images.append(feature_ids)\n",
        "                    self.categories.append(category)\n",
        "                except:\n",
        "                    print('error')\n",
        "                    pass\n",
        "            else:\n",
        "\n",
        "                try:\n",
        "                    # 学習用の処理を行なっていないデータ\n",
        "                    feature_ids = torch.reshape(val_transform(image),(-1, 3, 224, 224)).squeeze(0)\n",
        "                    self.images.append(feature_ids)\n",
        "                    self.categories.append(category)\n",
        "                except:\n",
        "                    print('error')\n",
        "                    pass\n",
        "\n",
        "    def __len__(self):\n",
        "        return len(self.images)\n",
        "\n",
        "    def __getitem__(self, idx):\n",
        "        return self.images[idx], self.categories[idx]\n",
        "\n"
      ],
      "execution_count": 38,
      "outputs": []
    },
    {
      "cell_type": "markdown",
      "metadata": {
        "id": "-A14L9P0MuXR"
      },
      "source": [
        "# モデルのインポート"
      ]
    },
    {
      "cell_type": "code",
      "metadata": {
        "id": "ndXa5HastxzJ"
      },
      "source": [
        "# 事前学習済みモデルのインポート\n",
        "\n",
        "# モデル本体\n",
        "# 順伝播時の出力にAttentionの結果もほしいときはoutput_attentions=Trueを指定する。\n",
        "vit_model = ViTModel.from_pretrained('google/vit-base-patch16-224-in21k', output_attentions=True)"
      ],
      "execution_count": 39,
      "outputs": []
    },
    {
      "cell_type": "markdown",
      "metadata": {
        "id": "WJj5f-j6M5Nl"
      },
      "source": [
        "# 入力サイズを事前学習済みモデルのものと変更する場合は以下のコードを利用"
      ]
    },
    {
      "cell_type": "code",
      "metadata": {
        "id": "L8NyLeHyA90z"
      },
      "source": [
        "# vit_modelの入力サイズをx * xに変更する\n",
        "\n",
        "#configuration = ViTConfig(image_size = (x,x))\n",
        "\n",
        "# Initializing a model from the vit-base-patch16-224 style configuration\n",
        "#vit_model = ViTModel(configuration)"
      ],
      "execution_count": 40,
      "outputs": []
    },
    {
      "cell_type": "markdown",
      "metadata": {
        "id": "ybtOxWIuNomu"
      },
      "source": [
        "# モデルの定義"
      ]
    },
    {
      "cell_type": "code",
      "metadata": {
        "id": "RarSbf2NyHNf"
      },
      "source": [
        "# モデルクラスの宣言\n",
        "\n",
        "class ViTNet(nn.Module):\n",
        "    def __init__(self, pretrained_vit_model, class_num):\n",
        "        super(ViTNet, self).__init__()\n",
        "        self.vit = pretrained_vit_model #学習ずみモデル\n",
        "        self.fc = nn.Linear(768, class_num)\n",
        "\n",
        "    def _get_cls_vec(self, states):\n",
        "        return states['last_hidden_state'][:, 0, :]\n",
        "\n",
        "    def forward(self, input_ids):\n",
        "        states = self.vit(input_ids)\n",
        "        states = self._get_cls_vec(states)\n",
        "        states = self.fc(states)\n",
        "        return states\n",
        "\n",
        "# 今回のデータのカテゴリ（フォルダ数）\n",
        "CLASS_NUM = len(categories)\n",
        "\n",
        "# 事前学習済モデルを引数で渡します。\n",
        "net = ViTNet(vit_model, CLASS_NUM)\n",
        "\n",
        "# GPUの設定\n",
        "device = torch.device(\"cuda\" if torch.cuda.is_available() else \"cpu\")\n",
        "net.to(device)\n",
        "\n",
        "# モデルの初期値を保存する（xxxxに保存するパスを記載してください）\n",
        "model_path = '/content/default_model.pth'\n",
        "torch.save(net.state_dict(),model_path)\n"
      ],
      "execution_count": 41,
      "outputs": []
    },
    {
      "cell_type": "markdown",
      "metadata": {
        "id": "Gxd-2VwhNyTg"
      },
      "source": [
        "# 損失関数（スムースクロスエントロピー）の定義\n",
        "\n",
        "学習する正解ラベルの値を１(100%)とするのではなく、少し減らした値で学習するようにする"
      ]
    },
    {
      "cell_type": "code",
      "metadata": {
        "id": "bw6a3F-LfX4Z"
      },
      "source": [
        "class LabelSmoothingCrossEntropyLoss(nn.Module):\n",
        "    def __init__(self, classes, smoothing=0.0, dim=-1):\n",
        "        super(LabelSmoothingCrossEntropyLoss, self).__init__()\n",
        "        self.confidence = 1.0 - smoothing\n",
        "        self.smoothing = smoothing\n",
        "        self.cls = classes\n",
        "        self.dim = dim\n",
        "\n",
        "    def forward(self, pred, target):\n",
        "        pred = pred.log_softmax(dim=self.dim)\n",
        "        with torch.no_grad():\n",
        "            true_dist = torch.zeros_like(pred)\n",
        "            true_dist.fill_(self.smoothing / (self.cls - 1))\n",
        "            true_dist.scatter_(1, target.data.unsqueeze(1), self.confidence)\n",
        "        return torch.mean(torch.sum(-true_dist * pred, dim=self.dim))"
      ],
      "execution_count": 42,
      "outputs": []
    },
    {
      "cell_type": "markdown",
      "metadata": {
        "id": "8UQk3RZoOo72"
      },
      "source": [
        "# 固定パラメータの指定"
      ]
    },
    {
      "cell_type": "code",
      "metadata": {
        "id": "tKzeFyORz0KX"
      },
      "source": [
        "EPOCHS = 20  # 学習を回す回数\n",
        "BATCH_SIZE = 32 # 一回に並列で演算する個数\n",
        "FOLD_NUM = 5 # 交差検証で分割を行う分割数\n"
      ],
      "execution_count": 43,
      "outputs": []
    },
    {
      "cell_type": "markdown",
      "metadata": {
        "id": "ErJv28FQPSOf"
      },
      "source": [
        "# 学習用の関数の定義"
      ]
    },
    {
      "cell_type": "code",
      "metadata": {
        "id": "rHOurMfIz03H"
      },
      "source": [
        "def train_one(net,train,valid):\n",
        "\n",
        "    # 結果確認用の配列の定義\n",
        "    train_losses = []\n",
        "    val_losses = []\n",
        "    train_fscores = []\n",
        "    val_fscores = []\n",
        "    train_accuracies = []\n",
        "    val_accuracies = []\n",
        "\n",
        "    best_val_fscore = 0\n",
        "\n",
        "    for epoch in range(EPOCHS):\n",
        "\n",
        "        # 学習\n",
        "        train_loss = 0.0\n",
        "        train_predict = []\n",
        "        train_answer = []\n",
        "        net.train()\n",
        "        for batch in train_loader:\n",
        "            optimizer.zero_grad() # オプティマイザの初期化\n",
        "\n",
        "            input_ids = batch[0].to(device) # 入力データをGPUに渡す\n",
        "            y = batch[1].to(device) # 入力データをGPUに渡す\n",
        "            out = net(input_ids) # 学習データをモデルに投入\n",
        "            loss = criterion(out, y) # 損失関数を出力\n",
        "            loss.backward() # 誤差逆伝播の実行\n",
        "            optimizer.step() # オプティマイザを更新\n",
        "\n",
        "            # 記録用に出力値を保管\n",
        "            train_predict += out.argmax(dim=1).cpu().detach().numpy().tolist()\n",
        "            train_answer += y.cpu().detach().numpy().tolist()\n",
        "            train_loss += loss.item()\n",
        "\n",
        "        # warmupの実装\n",
        "        scheduler_w.step()\n",
        "\n",
        "        # エポックごとの損失の合計とF1-scoreを計算する\n",
        "        train_losses.append(train_loss)\n",
        "        train_fscore = f1_score(train_answer, train_predict, average='macro')\n",
        "        train_fscores.append(train_fscore)\n",
        "        train_accuracy = accuracy_score(train_answer, train_predict)\n",
        "        train_accuracies.append(train_accuracy)\n",
        "\n",
        "        # 検証\n",
        "        val_loss = 0.0\n",
        "        val_predict = []\n",
        "        val_answer = []\n",
        "        net.eval()\n",
        "\n",
        "        # 検証用の処理\n",
        "        for batch in val_loader:\n",
        "            with torch.no_grad(): # 検証モードとして、学習を行わないことを宣言\n",
        "                # モデルへデータを投入し、損失関数を出力\n",
        "                input_ids = batch[0].to(device)\n",
        "                y = batch[1].to(device)\n",
        "                out = net(input_ids)\n",
        "                loss = criterion(out, y)\n",
        "\n",
        "                # 記録用に出力データを保管\n",
        "                val_loss += loss.item()\n",
        "                _, y_pred = torch.max(out, 1)            \n",
        "                val_predict += out.argmax(dim=1).cpu().detach().numpy().tolist()\n",
        "                val_answer += y.cpu().detach().numpy().tolist()\n",
        "\n",
        "        # エポックごとの損失の合計とF1-scoreを計算する\n",
        "        val_losses.append(val_loss)\n",
        "        val_fscore = f1_score(val_answer, val_predict, average='macro')\n",
        "        val_fscores.append(val_fscore)\n",
        "        val_accuracy = accuracy_score(val_answer, val_predict)\n",
        "        val_accuracies.append(val_accuracy)\n",
        "\n",
        "        # 損失関数、および精度の値を出力\n",
        "        print(f'epoch: {epoch} \\ttrain loss, {train_loss:0.4}, \\ttrain fscore, {train_fscore:0.4} ,\\ttrain accuracy, {train_accuracy:0.4}, \\tval loss, {val_loss:0.4}, \\tval fscore, {val_fscore:0.4} ,\\tval accuracy, {val_accuracy:0.4}')\n",
        "        \n",
        "        \n",
        "        # 検証データでF scoreの値を更新した時のみベストモデルを更新（過学習対策）\n",
        "        if val_fscore > best_val_fscore:\n",
        "            best_model = net\n",
        "            best_train_fscore = train_fscore\n",
        "            best_val_fscore = val_fscore\n",
        "\n",
        "\n",
        "    return best_model,best_train_fscore,best_val_fscore"
      ],
      "execution_count": 44,
      "outputs": []
    },
    {
      "cell_type": "markdown",
      "metadata": {
        "id": "KTDra2WWRHVn"
      },
      "source": [
        "# 学習の実行\n",
        "今回は交差検証を使ってデータを5分割しそれぞれ学習します。\n",
        "\b十分に学習データが揃っている場合は、FOLD_NUM＝１として出力モデルを１つとしてください。"
      ]
    },
    {
      "cell_type": "code",
      "metadata": {
        "id": "-LapgBS5oGJ5"
      },
      "source": [
        "# fold毎のモデル、正解率、損失を格納する配列\n",
        "nets, train_fscores, val_fscores = [], [], []\n",
        "\n",
        "y = train_df.category_id\n",
        "\n",
        "# n_splits分割（ここでは5分割）してCV\n",
        "kf = StratifiedKFold(n_splits=FOLD_NUM, shuffle=True, random_state=2020)\n",
        "\n",
        "i = 0\n",
        "\n",
        "for train_idx, valid_idx in kf.split(train_df,train_df.category_id):\n",
        "\n",
        "    # モデルの初期化を毎回実施する\n",
        "    net = ViTNet(vit_model, CLASS_NUM)\n",
        "\n",
        "    # GPU使う\n",
        "    device = torch.device(\"cuda\" if torch.cuda.is_available() else \"cpu\")\n",
        "    net.to(device)\n",
        "\n",
        "    net.load_state_dict(torch.load('/content/default_model.pth')) # モデルの初期パラメータをロード\n",
        "\n",
        "    # まず全パラメータを勾配計算Falseにする\n",
        "    for param in net.parameters():\n",
        "        param.requires_grad = False\n",
        "        #param.requires_grad = True\n",
        "\n",
        "    # 最終層を勾配計算ありに変更\n",
        "    for param in net.vit.encoder.layer[11].parameters():\n",
        "        param.requires_grad = True\n",
        "\n",
        "    # 最終層を勾配計算ありに変更\n",
        "    for param in net.vit.pooler.parameters():\n",
        "        param.requires_grad = True\n",
        "\n",
        "    # 追加したクラス分類用の全結合層を勾配計算ありに変更\n",
        "    for param in net.fc.parameters():\n",
        "        param.requires_grad = True\n",
        "\n",
        "    # オプティマイザーの選択\n",
        "    optimizer = torch.optim.SGD(net.parameters(), lr=0.1, momentum=0.9, nesterov=False)\n",
        "\n",
        "    # 損失関数\n",
        "    criterion = LabelSmoothingCrossEntropyLoss(classes=CLASS_NUM, smoothing=0.05)\n",
        "\n",
        "    scheduler = torch.optim.lr_scheduler.CosineAnnealingLR(optimizer, T_max=EPOCHS)\n",
        "\n",
        "    scheduler_w = warmup_scheduler.GradualWarmupScheduler(optimizer, multiplier=1., total_epoch=5, after_scheduler=scheduler)\n",
        "\n",
        "    # train_idx、valid_idxにはインデックスの値が格納されている\n",
        "    train_data = TrainData(train_df.iloc[train_idx],'train')\n",
        "    val_data = TrainData(train_df.iloc[valid_idx],'val')\n",
        "\n",
        "    train_loader = DataLoader(train_data, batch_size=BATCH_SIZE, shuffle=True)\n",
        "    val_loader = DataLoader(val_data, batch_size=BATCH_SIZE, shuffle=False)  \n",
        "\n",
        "    # train_one関数では実際の訓練が行われる\n",
        "    trained_net, train_fscore, val_fscore = train_one(net,train_loader, val_loader)\n",
        "    nets.append(trained_net)\n",
        "    train_fscores.append(train_fscore)\n",
        "    val_fscores.append(val_fscore)\n",
        "\n",
        "    # モデルを保存する\n",
        "    model_path = '/content/' + str(i) + '_model.pth' #学習したモデルを保存\n",
        "    torch.save(nets[i].state_dict(),model_path)\n",
        "\n",
        "    i += 1\n",
        "\n"
      ],
      "execution_count": null,
      "outputs": []
    },
    {
      "cell_type": "code",
      "metadata": {
        "colab": {
          "base_uri": "https://localhost:8080/",
          "height": 335
        },
        "id": "ic5MyOpXjMjh",
        "outputId": "64003309-034b-4f4a-e265-0059b53f0b9e"
      },
      "source": [
        "import matplotlib.pyplot as plt\n",
        "\n",
        "plt.figure(figsize=(15,5))\n",
        "\n",
        "plt.plot(train_fscores, '-o', label='train_fscores')\n",
        "plt.plot(val_fscores, '-^', label='val_fscores')\n",
        "plt.title('fscore')\n",
        "plt.legend()\n",
        "plt.grid()\n",
        "\n",
        "\n",
        "plt.show()"
      ],
      "execution_count": null,
      "outputs": [
        {
          "output_type": "display_data",
          "data": {
            "image/png": "[encoded data removed]",
            "text/plain": [
              "<Figure size 1080x360 with 1 Axes>"
            ]
          },
          "metadata": {
            "needs_background": "light"
          }
        }
      ]
    },
    {
      "cell_type": "markdown",
      "metadata": {
        "id": "w2jKYpeuAZIt"
      },
      "source": [
        "# 結果の確認\n",
        "\n",
        "今回は学習データの上位10\b個が正常に予測できていることを確認します。"
      ]
    },
    {
      "cell_type": "code",
      "metadata": {
        "colab": {
          "base_uri": "https://localhost:8080/"
        },
        "id": "aO9L4Lgg_TZ1",
        "outputId": "d178d1bd-e60c-487a-d8f0-0f9c38104a4a"
      },
      "source": [
        "# 最初のデータの出力を確認する\n",
        "test_data = TrainData(train_df[:10],'test')\n",
        "\n",
        "# DataLoaderを取得する\n",
        "test_loader = DataLoader(test_data, batch_size=1, shuffle=False)"
      ],
      "execution_count": 22,
      "outputs": [
        {
          "output_type": "stream",
          "name": "stderr",
          "text": [
            "100%|██████████| 10/10 [00:00<00:00, 58.40it/s]\n"
          ]
        }
      ]
    },
    {
      "cell_type": "markdown",
      "metadata": {
        "id": "cmBz1k9HVS-w"
      },
      "source": [
        "配列の最も大きいものが予測値となります。"
      ]
    },
    {
      "cell_type": "code",
      "metadata": {
        "id": "4dvQSxJ3AB6S"
      },
      "source": [
        " for batch in test_loader:\n",
        "    input_ids = batch[0].to(device)\n",
        "    out = net(input_ids)\n",
        "    print(out)"
      ],
      "execution_count": null,
      "outputs": []
    },
    {
      "cell_type": "markdown",
      "metadata": {
        "id": "fC_lmD0RVbwK"
      },
      "source": [
        "category_idと予測値が同じになることを確認してください。"
      ]
    },
    {
      "cell_type": "code",
      "metadata": {
        "id": "iXpxbBmLBRTY"
      },
      "source": [
        "train_df[:10]"
      ],
      "execution_count": null,
      "outputs": []
    },
    {
      "cell_type": "code",
      "metadata": {
        "id": "FbVgU5bhcGkU"
      },
      "source": [
        ""
      ],
      "execution_count": null,
      "outputs": []
    }
  ]
}