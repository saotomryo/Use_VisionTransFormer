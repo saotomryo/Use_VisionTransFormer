{
  "nbformat": 4,
  "nbformat_minor": 0,
  "metadata": {
    "colab": {
      "name": "Vision _Transfomer_with_Cross_val.ipynb",
      "provenance": [],
      "collapsed_sections": [],
      "mount_file_id": "1_zZEUxECRu0pv5_QQxLef0dNTgoFeijT",
      "authorship_tag": "ABX9TyM9xW5NKnau4ozgSyF/PxL5",
      "include_colab_link": true
    },
    "kernelspec": {
      "name": "python3",
      "display_name": "Python 3"
    },
    "language_info": {
      "name": "python"
    },
    "accelerator": "GPU",
    "widgets": {
      "application/vnd.jupyter.widget-state+json": {
        "a885910e0cb444418a376207519ed1c3": {
          "model_module": "@jupyter-widgets/controls",
          "model_name": "HBoxModel",
          "model_module_version": "1.5.0",
          "state": {
            "_view_name": "HBoxView",
            "_dom_classes": [],
            "_model_name": "HBoxModel",
            "_view_module": "@jupyter-widgets/controls",
            "_model_module_version": "1.5.0",
            "_view_count": null,
            "_view_module_version": "1.5.0",
            "box_style": "",
            "layout": "IPY_MODEL_51c781bbcb644025a5ea63a11646ae1c",
            "_model_module": "@jupyter-widgets/controls",
            "children": [
              "IPY_MODEL_cdceed48ee344f6fbdf19dde2718f53c",
              "IPY_MODEL_51d810c8dc0b425ca1b6b475ffe72920",
              "IPY_MODEL_9632fd60a2bc4057b7d25df655e89a76"
            ]
          }
        },
        "51c781bbcb644025a5ea63a11646ae1c": {
          "model_module": "@jupyter-widgets/base",
          "model_name": "LayoutModel",
          "model_module_version": "1.2.0",
          "state": {
            "_view_name": "LayoutView",
            "grid_template_rows": null,
            "right": null,
            "justify_content": null,
            "_view_module": "@jupyter-widgets/base",
            "overflow": null,
            "_model_module_version": "1.2.0",
            "_view_count": null,
            "flex_flow": null,
            "width": null,
            "min_width": null,
            "border": null,
            "align_items": null,
            "bottom": null,
            "_model_module": "@jupyter-widgets/base",
            "top": null,
            "grid_column": null,
            "overflow_y": null,
            "overflow_x": null,
            "grid_auto_flow": null,
            "grid_area": null,
            "grid_template_columns": null,
            "flex": null,
            "_model_name": "LayoutModel",
            "justify_items": null,
            "grid_row": null,
            "max_height": null,
            "align_content": null,
            "visibility": null,
            "align_self": null,
            "height": null,
            "min_height": null,
            "padding": null,
            "grid_auto_rows": null,
            "grid_gap": null,
            "max_width": null,
            "order": null,
            "_view_module_version": "1.2.0",
            "grid_template_areas": null,
            "object_position": null,
            "object_fit": null,
            "grid_auto_columns": null,
            "margin": null,
            "display": null,
            "left": null
          }
        },
        "cdceed48ee344f6fbdf19dde2718f53c": {
          "model_module": "@jupyter-widgets/controls",
          "model_name": "HTMLModel",
          "model_module_version": "1.5.0",
          "state": {
            "_view_name": "HTMLView",
            "style": "IPY_MODEL_ed5db378cc7749e4aa99af4d51798171",
            "_dom_classes": [],
            "description": "",
            "_model_name": "HTMLModel",
            "placeholder": "​",
            "_view_module": "@jupyter-widgets/controls",
            "_model_module_version": "1.5.0",
            "value": "Downloading: 100%",
            "_view_count": null,
            "_view_module_version": "1.5.0",
            "description_tooltip": null,
            "_model_module": "@jupyter-widgets/controls",
            "layout": "IPY_MODEL_baf758b7c9c94768b7caea716d8081ce"
          }
        },
        "51d810c8dc0b425ca1b6b475ffe72920": {
          "model_module": "@jupyter-widgets/controls",
          "model_name": "FloatProgressModel",
          "model_module_version": "1.5.0",
          "state": {
            "_view_name": "ProgressView",
            "style": "IPY_MODEL_e1a6fc3f71904188970b2daf05402374",
            "_dom_classes": [],
            "description": "",
            "_model_name": "FloatProgressModel",
            "bar_style": "success",
            "max": 425,
            "_view_module": "@jupyter-widgets/controls",
            "_model_module_version": "1.5.0",
            "value": 425,
            "_view_count": null,
            "_view_module_version": "1.5.0",
            "orientation": "horizontal",
            "min": 0,
            "description_tooltip": null,
            "_model_module": "@jupyter-widgets/controls",
            "layout": "IPY_MODEL_cbff1b6964094819abb055555c8a30ea"
          }
        },
        "9632fd60a2bc4057b7d25df655e89a76": {
          "model_module": "@jupyter-widgets/controls",
          "model_name": "HTMLModel",
          "model_module_version": "1.5.0",
          "state": {
            "_view_name": "HTMLView",
            "style": "IPY_MODEL_fd1f6c80691842e9b31f493691b08c22",
            "_dom_classes": [],
            "description": "",
            "_model_name": "HTMLModel",
            "placeholder": "​",
            "_view_module": "@jupyter-widgets/controls",
            "_model_module_version": "1.5.0",
            "value": " 425/425 [00:00&lt;00:00, 11.6kB/s]",
            "_view_count": null,
            "_view_module_version": "1.5.0",
            "description_tooltip": null,
            "_model_module": "@jupyter-widgets/controls",
            "layout": "IPY_MODEL_a61b2194258e47e9b5129b237a37ecc2"
          }
        },
        "ed5db378cc7749e4aa99af4d51798171": {
          "model_module": "@jupyter-widgets/controls",
          "model_name": "DescriptionStyleModel",
          "model_module_version": "1.5.0",
          "state": {
            "_view_name": "StyleView",
            "_model_name": "DescriptionStyleModel",
            "description_width": "",
            "_view_module": "@jupyter-widgets/base",
            "_model_module_version": "1.5.0",
            "_view_count": null,
            "_view_module_version": "1.2.0",
            "_model_module": "@jupyter-widgets/controls"
          }
        },
        "baf758b7c9c94768b7caea716d8081ce": {
          "model_module": "@jupyter-widgets/base",
          "model_name": "LayoutModel",
          "model_module_version": "1.2.0",
          "state": {
            "_view_name": "LayoutView",
            "grid_template_rows": null,
            "right": null,
            "justify_content": null,
            "_view_module": "@jupyter-widgets/base",
            "overflow": null,
            "_model_module_version": "1.2.0",
            "_view_count": null,
            "flex_flow": null,
            "width": null,
            "min_width": null,
            "border": null,
            "align_items": null,
            "bottom": null,
            "_model_module": "@jupyter-widgets/base",
            "top": null,
            "grid_column": null,
            "overflow_y": null,
            "overflow_x": null,
            "grid_auto_flow": null,
            "grid_area": null,
            "grid_template_columns": null,
            "flex": null,
            "_model_name": "LayoutModel",
            "justify_items": null,
            "grid_row": null,
            "max_height": null,
            "align_content": null,
            "visibility": null,
            "align_self": null,
            "height": null,
            "min_height": null,
            "padding": null,
            "grid_auto_rows": null,
            "grid_gap": null,
            "max_width": null,
            "order": null,
            "_view_module_version": "1.2.0",
            "grid_template_areas": null,
            "object_position": null,
            "object_fit": null,
            "grid_auto_columns": null,
            "margin": null,
            "display": null,
            "left": null
          }
        },
        "e1a6fc3f71904188970b2daf05402374": {
          "model_module": "@jupyter-widgets/controls",
          "model_name": "ProgressStyleModel",
          "model_module_version": "1.5.0",
          "state": {
            "_view_name": "StyleView",
            "_model_name": "ProgressStyleModel",
            "description_width": "",
            "_view_module": "@jupyter-widgets/base",
            "_model_module_version": "1.5.0",
            "_view_count": null,
            "_view_module_version": "1.2.0",
            "bar_color": null,
            "_model_module": "@jupyter-widgets/controls"
          }
        },
        "cbff1b6964094819abb055555c8a30ea": {
          "model_module": "@jupyter-widgets/base",
          "model_name": "LayoutModel",
          "model_module_version": "1.2.0",
          "state": {
            "_view_name": "LayoutView",
            "grid_template_rows": null,
            "right": null,
            "justify_content": null,
            "_view_module": "@jupyter-widgets/base",
            "overflow": null,
            "_model_module_version": "1.2.0",
            "_view_count": null,
            "flex_flow": null,
            "width": null,
            "min_width": null,
            "border": null,
            "align_items": null,
            "bottom": null,
            "_model_module": "@jupyter-widgets/base",
            "top": null,
            "grid_column": null,
            "overflow_y": null,
            "overflow_x": null,
            "grid_auto_flow": null,
            "grid_area": null,
            "grid_template_columns": null,
            "flex": null,
            "_model_name": "LayoutModel",
            "justify_items": null,
            "grid_row": null,
            "max_height": null,
            "align_content": null,
            "visibility": null,
            "align_self": null,
            "height": null,
            "min_height": null,
            "padding": null,
            "grid_auto_rows": null,
            "grid_gap": null,
            "max_width": null,
            "order": null,
            "_view_module_version": "1.2.0",
            "grid_template_areas": null,
            "object_position": null,
            "object_fit": null,
            "grid_auto_columns": null,
            "margin": null,
            "display": null,
            "left": null
          }
        },
        "fd1f6c80691842e9b31f493691b08c22": {
          "model_module": "@jupyter-widgets/controls",
          "model_name": "DescriptionStyleModel",
          "model_module_version": "1.5.0",
          "state": {
            "_view_name": "StyleView",
            "_model_name": "DescriptionStyleModel",
            "description_width": "",
            "_view_module": "@jupyter-widgets/base",
            "_model_module_version": "1.5.0",
            "_view_count": null,
            "_view_module_version": "1.2.0",
            "_model_module": "@jupyter-widgets/controls"
          }
        },
        "a61b2194258e47e9b5129b237a37ecc2": {
          "model_module": "@jupyter-widgets/base",
          "model_name": "LayoutModel",
          "model_module_version": "1.2.0",
          "state": {
            "_view_name": "LayoutView",
            "grid_template_rows": null,
            "right": null,
            "justify_content": null,
            "_view_module": "@jupyter-widgets/base",
            "overflow": null,
            "_model_module_version": "1.2.0",
            "_view_count": null,
            "flex_flow": null,
            "width": null,
            "min_width": null,
            "border": null,
            "align_items": null,
            "bottom": null,
            "_model_module": "@jupyter-widgets/base",
            "top": null,
            "grid_column": null,
            "overflow_y": null,
            "overflow_x": null,
            "grid_auto_flow": null,
            "grid_area": null,
            "grid_template_columns": null,
            "flex": null,
            "_model_name": "LayoutModel",
            "justify_items": null,
            "grid_row": null,
            "max_height": null,
            "align_content": null,
            "visibility": null,
            "align_self": null,
            "height": null,
            "min_height": null,
            "padding": null,
            "grid_auto_rows": null,
            "grid_gap": null,
            "max_width": null,
            "order": null,
            "_view_module_version": "1.2.0",
            "grid_template_areas": null,
            "object_position": null,
            "object_fit": null,
            "grid_auto_columns": null,
            "margin": null,
            "display": null,
            "left": null
          }
        }
      }
    }
  },
  "cells": [
    {
      "cell_type": "markdown",
      "metadata": {
        "id": "view-in-github",
        "colab_type": "text"
      },
      "source": [
        "<a href=\"https://colab.research.google.com/github/saotomryo/Use_VisionTransFormer/blob/main/Vision__Transfomer_with_Cross_val.ipynb\" target=\"_parent\"><img src=\"https://colab.research.google.com/assets/colab-badge.svg\" alt=\"Open In Colab\"/></a>"
      ]
    },
    {
      "cell_type": "markdown",
      "metadata": {
        "id": "LiP6RDuNId-1"
      },
      "source": [
        "## トランスフォーマー等のインストールコンポーネントのインストール"
      ]
    },
    {
      "cell_type": "code",
      "metadata": {
        "colab": {
          "base_uri": "https://localhost:8080/"
        },
        "id": "n3TGIv6zthpb",
        "outputId": "4f1edeb2-330a-4cee-b4ff-76ba2f22aecb"
      },
      "source": [
        "!pip install transformers\n",
        "!pip list | grep transformers\n",
        "!pip install git+https://github.com/ildoonet/pytorch-gradual-warmup-lr.git"
      ],
      "execution_count": 1,
      "outputs": [
        {
          "output_type": "stream",
          "name": "stdout",
          "text": [
            "Collecting transformers\n",
            "  Downloading transformers-4.11.3-py3-none-any.whl (2.9 MB)\n",
            "\u001b[K     |████████████████████████████████| 2.9 MB 8.4 MB/s \n",
            "\u001b[?25hRequirement already satisfied: importlib-metadata in /usr/local/lib/python3.7/dist-packages (from transformers) (4.8.1)\n",
            "Collecting huggingface-hub>=0.0.17\n",
            "  Downloading huggingface_hub-0.0.19-py3-none-any.whl (56 kB)\n",
            "\u001b[K     |████████████████████████████████| 56 kB 3.7 MB/s \n",
            "\u001b[?25hCollecting tokenizers<0.11,>=0.10.1\n",
            "  Downloading tokenizers-0.10.3-cp37-cp37m-manylinux_2_5_x86_64.manylinux1_x86_64.manylinux_2_12_x86_64.manylinux2010_x86_64.whl (3.3 MB)\n",
            "\u001b[K     |████████████████████████████████| 3.3 MB 55.6 MB/s \n",
            "\u001b[?25hCollecting sacremoses\n",
            "  Downloading sacremoses-0.0.46-py3-none-any.whl (895 kB)\n",
            "\u001b[K     |████████████████████████████████| 895 kB 55.6 MB/s \n",
            "\u001b[?25hCollecting pyyaml>=5.1\n",
            "  Downloading PyYAML-5.4.1-cp37-cp37m-manylinux1_x86_64.whl (636 kB)\n",
            "\u001b[K     |████████████████████████████████| 636 kB 52.7 MB/s \n",
            "\u001b[?25hRequirement already satisfied: tqdm>=4.27 in /usr/local/lib/python3.7/dist-packages (from transformers) (4.62.3)\n",
            "Requirement already satisfied: requests in /usr/local/lib/python3.7/dist-packages (from transformers) (2.23.0)\n",
            "Requirement already satisfied: regex!=2019.12.17 in /usr/local/lib/python3.7/dist-packages (from transformers) (2019.12.20)\n",
            "Requirement already satisfied: numpy>=1.17 in /usr/local/lib/python3.7/dist-packages (from transformers) (1.19.5)\n",
            "Requirement already satisfied: filelock in /usr/local/lib/python3.7/dist-packages (from transformers) (3.3.0)\n",
            "Requirement already satisfied: packaging>=20.0 in /usr/local/lib/python3.7/dist-packages (from transformers) (21.0)\n",
            "Requirement already satisfied: typing-extensions in /usr/local/lib/python3.7/dist-packages (from huggingface-hub>=0.0.17->transformers) (3.7.4.3)\n",
            "Requirement already satisfied: pyparsing>=2.0.2 in /usr/local/lib/python3.7/dist-packages (from packaging>=20.0->transformers) (2.4.7)\n",
            "Requirement already satisfied: zipp>=0.5 in /usr/local/lib/python3.7/dist-packages (from importlib-metadata->transformers) (3.6.0)\n",
            "Requirement already satisfied: idna<3,>=2.5 in /usr/local/lib/python3.7/dist-packages (from requests->transformers) (2.10)\n",
            "Requirement already satisfied: chardet<4,>=3.0.2 in /usr/local/lib/python3.7/dist-packages (from requests->transformers) (3.0.4)\n",
            "Requirement already satisfied: urllib3!=1.25.0,!=1.25.1,<1.26,>=1.21.1 in /usr/local/lib/python3.7/dist-packages (from requests->transformers) (1.24.3)\n",
            "Requirement already satisfied: certifi>=2017.4.17 in /usr/local/lib/python3.7/dist-packages (from requests->transformers) (2021.5.30)\n",
            "Requirement already satisfied: six in /usr/local/lib/python3.7/dist-packages (from sacremoses->transformers) (1.15.0)\n",
            "Requirement already satisfied: joblib in /usr/local/lib/python3.7/dist-packages (from sacremoses->transformers) (1.0.1)\n",
            "Requirement already satisfied: click in /usr/local/lib/python3.7/dist-packages (from sacremoses->transformers) (7.1.2)\n",
            "Installing collected packages: pyyaml, tokenizers, sacremoses, huggingface-hub, transformers\n",
            "  Attempting uninstall: pyyaml\n",
            "    Found existing installation: PyYAML 3.13\n",
            "    Uninstalling PyYAML-3.13:\n",
            "      Successfully uninstalled PyYAML-3.13\n",
            "Successfully installed huggingface-hub-0.0.19 pyyaml-5.4.1 sacremoses-0.0.46 tokenizers-0.10.3 transformers-4.11.3\n",
            "transformers                  4.11.3\n",
            "Collecting git+https://github.com/ildoonet/pytorch-gradual-warmup-lr.git\n",
            "  Cloning https://github.com/ildoonet/pytorch-gradual-warmup-lr.git to /tmp/pip-req-build-ey872js8\n",
            "  Running command git clone -q https://github.com/ildoonet/pytorch-gradual-warmup-lr.git /tmp/pip-req-build-ey872js8\n",
            "Building wheels for collected packages: warmup-scheduler\n",
            "  Building wheel for warmup-scheduler (setup.py) ... \u001b[?25l\u001b[?25hdone\n",
            "  Created wheel for warmup-scheduler: filename=warmup_scheduler-0.3.2-py3-none-any.whl size=3879 sha256=571e116cfb2a115d14192e2c2cce3d3abaa33e7c7ff09c50dfacf7e1e876db54\n",
            "  Stored in directory: /tmp/pip-ephem-wheel-cache-nt2fvhto/wheels/bf/81/52/0e3bc0b645a339f94c76b4dcb8c8b7a5f588a614f5add83b9f\n",
            "Successfully built warmup-scheduler\n",
            "Installing collected packages: warmup-scheduler\n",
            "Successfully installed warmup-scheduler-0.3.2\n"
          ]
        }
      ]
    },
    {
      "cell_type": "markdown",
      "metadata": {
        "id": "7_-xt4g_I20j"
      },
      "source": [
        "## 利用するパッケージのインポート"
      ]
    },
    {
      "cell_type": "code",
      "metadata": {
        "id": "AKaUxu4QyMeF"
      },
      "source": [
        "from PIL import Image\n",
        "import os\n",
        "from glob import glob\n",
        "\n",
        "import pandas as pd\n",
        "import torch\n",
        "from torchvision import transforms\n",
        "import numpy as np\n",
        "from sklearn.model_selection import train_test_split\n",
        "from torch.utils.data import Dataset, DataLoader\n",
        "from tqdm import tqdm\n",
        "import torch.nn as nn\n",
        "import torch.nn.functional as F\n",
        "import torch.optim as optim\n",
        "from sklearn.metrics import f1_score,accuracy_score\n",
        "from sklearn.model_selection import StratifiedKFold\n",
        "from statistics import mean\n",
        "\n",
        "import warmup_scheduler\n",
        "from transformers import ViTFeatureExtractor, ViTModel"
      ],
      "execution_count": 18,
      "outputs": []
    },
    {
      "cell_type": "markdown",
      "metadata": {
        "id": "q3sYy4_lJGLO"
      },
      "source": [
        "学習を行う対象フォルダ\n",
        "へ移動\n",
        "\n",
        "対象フォルダは以下の形式となっていることとする\n",
        "\n",
        "全体のフォルダ\n",
        "\n",
        "　- ラベル付けを行うフォルダ（フォルダ名を正解ラベルの名前をしてください）\n",
        "\n",
        "　　　　　- 各画像ファイル\n"
      ]
    },
    {
      "cell_type": "code",
      "metadata": {
        "colab": {
          "base_uri": "https://localhost:8080/"
        },
        "id": "rDliVHEp9voc",
        "outputId": "7d8e7789-89a5-49cd-abee-6d1345674070"
      },
      "source": [
        "%cd /content/drive/MyDrive/AIQUEST/train_fix"
      ],
      "execution_count": 3,
      "outputs": [
        {
          "output_type": "stream",
          "name": "stdout",
          "text": [
            "/content/drive/MyDrive/AIQUEST/train_fix\n"
          ]
        }
      ]
    },
    {
      "cell_type": "code",
      "metadata": {
        "colab": {
          "base_uri": "https://localhost:8080/"
        },
        "id": "jFXPAjSquyMh",
        "outputId": "dfa795dd-330e-41a5-9930-016ed13c7f33"
      },
      "source": [
        "folders = os.listdir(\"./\")\n",
        "print(folders)"
      ],
      "execution_count": 4,
      "outputs": [
        {
          "output_type": "stream",
          "name": "stdout",
          "text": [
            "['regular', 'bridge', 'horn', 'potato']\n"
          ]
        }
      ]
    },
    {
      "cell_type": "code",
      "metadata": {
        "colab": {
          "base_uri": "https://localhost:8080/"
        },
        "id": "oH-Gsx_ivEfv",
        "outputId": "74abbae7-6531-4a85-f58e-660f19d5671e"
      },
      "source": [
        "tmp = []\n",
        "\n",
        "for folder in folders:\n",
        "    if folder[0] != '.':\n",
        "        filiename_list = glob('./' + folder + '/*.jpeg')\n",
        "        print(filiename_list)\n",
        "        for filename in filiename_list:\n",
        "            category = folder\n",
        "            tmp.append([filename,category])\n",
        "\n",
        "# １レコードがファイルパスとカテゴリー（正解ラベル）になるようにDataFrameにまとめる\n",
        "handa_df = pd.DataFrame(tmp, columns=['path', 'category'])\n",
        "\n",
        "# カテゴリーをID（数値）に変換した列を追加する\n",
        "categories = handa_df['category'].unique().tolist()\n",
        "handa_df['category_id'] = handa_df['category'].map(lambda x: categories.index(x))\n"
      ],
      "execution_count": 5,
      "outputs": [
        {
          "output_type": "stream",
          "name": "stdout",
          "text": [
            "['./regular/regular_000.jpeg', './regular/regular_001.jpeg', './regular/regular_002.jpeg', './regular/regular_003.jpeg', './regular/regular_004.jpeg', './regular/regular_005.jpeg', './regular/regular_006.jpeg', './regular/regular_007.jpeg', './regular/regular_008.jpeg', './regular/regular_009.jpeg', './regular/regular_010.jpeg', './regular/regular_011.jpeg', './regular/regular_012.jpeg', './regular/regular_013.jpeg', './regular/regular_014.jpeg', './regular/regular_015.jpeg', './regular/regular_016.jpeg', './regular/regular_017.jpeg', './regular/regular_018.jpeg', './regular/regular_019.jpeg', './regular/regular_020.jpeg', './regular/regular_021.jpeg', './regular/regular_022.jpeg', './regular/regular_023.jpeg', './regular/regular_024.jpeg', './regular/regular_025.jpeg', './regular/regular_026.jpeg', './regular/regular_027.jpeg', './regular/regular_028.jpeg', './regular/regular_029.jpeg', './regular/regular_030.jpeg', './regular/regular_031.jpeg', './regular/regular_032.jpeg', './regular/regular_033.jpeg', './regular/regular_034.jpeg', './regular/regular_035.jpeg', './regular/regular_036.jpeg', './regular/regular_037.jpeg', './regular/regular_038.jpeg', './regular/regular_039.jpeg', './regular/regular_040.jpeg', './regular/regular_041.jpeg', './regular/regular_042.jpeg', './regular/regular_043.jpeg', './regular/regular_044.jpeg', './regular/regular_045.jpeg', './regular/regular_046.jpeg', './regular/regular_047.jpeg', './regular/regular_048.jpeg', './regular/regular_049.jpeg', './regular/regular_050.jpeg', './regular/regular_051.jpeg', './regular/regular_052.jpeg', './regular/regular_053.jpeg', './regular/regular_054.jpeg', './regular/regular_055.jpeg', './regular/regular_056.jpeg', './regular/regular_057.jpeg', './regular/regular_058.jpeg', './regular/regular_059.jpeg', './regular/regular_060.jpeg', './regular/regular_061.jpeg', './regular/regular_062.jpeg', './regular/regular_063.jpeg', './regular/regular_064.jpeg', './regular/regular_065.jpeg', './regular/regular_066.jpeg', './regular/regular_067.jpeg', './regular/regular_068.jpeg', './regular/regular_069.jpeg', './regular/regular_070.jpeg', './regular/regular_071.jpeg', './regular/regular_072.jpeg', './regular/regular_073.jpeg', './regular/regular_074.jpeg', './regular/regular_075.jpeg', './regular/regular_076.jpeg', './regular/regular_077.jpeg', './regular/regular_078.jpeg', './regular/regular_079.jpeg', './regular/regular_080.jpeg', './regular/regular_081.jpeg', './regular/regular_082.jpeg', './regular/regular_083.jpeg', './regular/regular_084.jpeg', './regular/regular_085.jpeg', './regular/regular_086.jpeg', './regular/regular_087.jpeg', './regular/regular_088.jpeg', './regular/regular_089.jpeg', './regular/regular_090.jpeg', './regular/regular_091.jpeg', './regular/regular_092.jpeg', './regular/regular_093.jpeg', './regular/regular_094.jpeg', './regular/regular_095.jpeg', './regular/regular_096.jpeg', './regular/regular_097.jpeg', './regular/regular_098.jpeg', './regular/regular_099.jpeg']\n",
            "['./bridge/bridge_000.jpeg', './bridge/bridge_001.jpeg', './bridge/bridge_002.jpeg', './bridge/bridge_003.jpeg', './bridge/bridge_004.jpeg', './bridge/bridge_005.jpeg', './bridge/bridge_006.jpeg', './bridge/bridge_007.jpeg', './bridge/bridge_008.jpeg', './bridge/bridge_009.jpeg', './bridge/bridge_010.jpeg', './bridge/bridge_011.jpeg', './bridge/bridge_012.jpeg', './bridge/bridge_013.jpeg', './bridge/bridge_014.jpeg', './bridge/bridge_015.jpeg', './bridge/bridge_016.jpeg', './bridge/bridge_017.jpeg', './bridge/bridge_018.jpeg', './bridge/bridge_019.jpeg', './bridge/bridge_020.jpeg', './bridge/bridge_021.jpeg', './bridge/bridge_022.jpeg', './bridge/bridge_023.jpeg', './bridge/bridge_024.jpeg', './bridge/bridge_025.jpeg', './bridge/bridge_026.jpeg', './bridge/bridge_027.jpeg', './bridge/bridge_028.jpeg', './bridge/bridge_029.jpeg']\n",
            "['./horn/horn_000.jpeg', './horn/horn_001.jpeg', './horn/horn_002.jpeg', './horn/horn_003.jpeg', './horn/horn_004.jpeg', './horn/horn_005.jpeg', './horn/horn_006.jpeg', './horn/horn_007.jpeg', './horn/horn_008.jpeg', './horn/horn_009.jpeg', './horn/horn_010.jpeg', './horn/horn_011.jpeg', './horn/horn_012.jpeg', './horn/horn_013.jpeg', './horn/horn_014.jpeg', './horn/horn_015.jpeg', './horn/horn_016.jpeg', './horn/horn_017.jpeg', './horn/horn_018.jpeg', './horn/horn_019.jpeg', './horn/horn_020.jpeg', './horn/horn_021.jpeg', './horn/horn_022.jpeg', './horn/horn_023.jpeg', './horn/horn_024.jpeg', './horn/horn_025.jpeg', './horn/horn_026.jpeg', './horn/horn_027.jpeg', './horn/horn_028.jpeg', './horn/horn_029.jpeg', './horn/horn_030.jpeg', './horn/horn_031.jpeg', './horn/horn_032.jpeg', './horn/horn_033.jpeg', './horn/horn_034.jpeg', './horn/horn_035.jpeg', './horn/horn_036.jpeg', './horn/horn_037.jpeg', './horn/horn_038.jpeg', './horn/horn_039.jpeg', './horn/horn_040.jpeg', './horn/horn_041.jpeg', './horn/horn_042.jpeg', './horn/horn_043.jpeg', './horn/horn_044.jpeg', './horn/horn_045.jpeg', './horn/horn_046.jpeg', './horn/horn_047.jpeg', './horn/horn_048.jpeg', './horn/horn_049.jpeg', './horn/horn_050.jpeg', './horn/horn_051.jpeg', './horn/horn_052.jpeg', './horn/horn_053.jpeg', './horn/horn_054.jpeg', './horn/horn_055.jpeg', './horn/horn_056.jpeg']\n",
            "['./potato/potato_000.jpeg', './potato/potato_001.jpeg', './potato/potato_002.jpeg', './potato/potato_003.jpeg', './potato/potato_004.jpeg', './potato/potato_005.jpeg', './potato/potato_006.jpeg', './potato/potato_007.jpeg', './potato/potato_008.jpeg', './potato/potato_009.jpeg', './potato/potato_010.jpeg', './potato/potato_011.jpeg', './potato/potato_012.jpeg', './potato/potato_013.jpeg', './potato/potato_014.jpeg', './potato/potato_015.jpeg', './potato/potato_016.jpeg', './potato/potato_017.jpeg', './potato/potato_018.jpeg', './potato/potato_019.jpeg', './potato/potato_020.jpeg', './potato/potato_021.jpeg', './potato/potato_022.jpeg', './potato/potato_023.jpeg', './potato/potato_024.jpeg', './potato/potato_025.jpeg', './potato/potato_026.jpeg', './potato/potato_027.jpeg', './potato/potato_028.jpeg', './potato/potato_029.jpeg', './potato/potato_030.jpeg', './potato/potato_031.jpeg', './potato/potato_032.jpeg', './potato/potato_033.jpeg', './potato/potato_034.jpeg', './potato/potato_035.jpeg', './potato/potato_036.jpeg', './potato/potato_037.jpeg', './potato/potato_038.jpeg', './potato/potato_039.jpeg', './potato/potato_040.jpeg', './potato/potato_041.jpeg', './potato/potato_042.jpeg', './potato/potato_043.jpeg', './potato/potato_044.jpeg', './potato/potato_045.jpeg', './potato/potato_046.jpeg', './potato/potato_047.jpeg', './potato/potato_048.jpeg', './potato/potato_049.jpeg', './potato/potato_050.jpeg', './potato/potato_051.jpeg', './potato/potato_052.jpeg', './potato/potato_053.jpeg', './potato/potato_054.jpeg', './potato/potato_055.jpeg', './potato/potato_056.jpeg', './potato/potato_057.jpeg', './potato/potato_058.jpeg', './potato/potato_059.jpeg', './potato/potato_060.jpeg', './potato/potato_061.jpeg', './potato/potato_062.jpeg', './potato/potato_063.jpeg', './potato/potato_064.jpeg', './potato/potato_065.jpeg', './potato/potato_066.jpeg', './potato/potato_067.jpeg', './potato/potato_068.jpeg', './potato/potato_069.jpeg', './potato/potato_070.jpeg', './potato/potato_071.jpeg', './potato/potato_072.jpeg', './potato/potato_073.jpeg', './potato/potato_074.jpeg', './potato/potato_075.jpeg', './potato/potato_076.jpeg', './potato/potato_077.jpeg', './potato/potato_078.jpeg', './potato/potato_079.jpeg', './potato/potato_080.jpeg', './potato/potato_081.jpeg', './potato/potato_082.jpeg', './potato/potato_083.jpeg', './potato/potato_084.jpeg', './potato/potato_085.jpeg', './potato/potato_086.jpeg', './potato/potato_087.jpeg', './potato/potato_088.jpeg', './potato/potato_089.jpeg', './potato/potato_090.jpeg', './potato/potato_091.jpeg', './potato/potato_092.jpeg', './potato/potato_093.jpeg', './potato/potato_094.jpeg', './potato/potato_095.jpeg', './potato/potato_096.jpeg', './potato/potato_097.jpeg', './potato/potato_098.jpeg', './potato/potato_099.jpeg', './potato/potato_100.jpeg', './potato/potato_101.jpeg', './potato/potato_102.jpeg']\n"
          ]
        }
      ]
    },
    {
      "cell_type": "code",
      "metadata": {
        "id": "HydzA6CBt2S3"
      },
      "source": [
        "# データの前処理及びデータ水増し\n",
        "\n",
        "transform = transforms.Compose([\n",
        "    transforms.RandomRotation(degrees=(-10,10)), # 5度の範囲で画像をランダムに回転\n",
        "    transforms.RandomHorizontalFlip(),\n",
        "    transforms.RandomResizedCrop(size=(224,224),scale=(0.9,0.9),ratio=(1.0,1.0)), # アスペクト比を保って、0.9倍のサイズでランダムに画像を224x224に切り出し\n",
        "    transforms.ToTensor(),\n",
        "    transforms.Normalize((0.485, 0.456, 0.406), (0.229, 0.224, 0.225)), # ImageNetに合わせて画像の標準化\n",
        "])\n",
        "val_transform = transforms.Compose([ # 検証データ用の画像の前処理\n",
        "    transforms.RandomResizedCrop(size=(224,224),scale=(1.0,1.0),ratio=(1.0,1.0)), # アスペクト比を保って画像をリサイズ\n",
        "    transforms.ToTensor(),\n",
        "    transforms.Normalize((0.485, 0.456, 0.406), (0.229, 0.224, 0.225)),\n",
        "])\n",
        "\n"
      ],
      "execution_count": 6,
      "outputs": []
    },
    {
      "cell_type": "markdown",
      "metadata": {
        "id": "gfM2KXwNLSCg"
      },
      "source": [
        "# データセットを定義する"
      ]
    },
    {
      "cell_type": "code",
      "metadata": {
        "id": "5kOdKIWvw7rN"
      },
      "source": [
        "\n",
        "class HandaData(Dataset):\n",
        "    def __init__(self, df, phase):\n",
        "        self.images = []\n",
        "        self.categories = []\n",
        "\n",
        "        for row in tqdm(df.itertuples(), total=df.shape[0]):\n",
        "            path = row.path\n",
        "            if phase != 'test':\n",
        "                category = row.category_id\n",
        "            else:\n",
        "                category = 0\n",
        "            image = Image.open(path)\n",
        "\n",
        "            # 学習用データの定義\n",
        "            if phase == 'train':\n",
        "\n",
        "                try:\n",
        "                    # 学習用の処理を行なったデータ\n",
        "                    feature_ids = torch.reshape(transform(image),(-1, 3, 224, 224)).squeeze(0)\n",
        "                    self.images.append(feature_ids)\n",
        "                    self.categories.append(category)\n",
        "                    # 学習用の処理を行なっていないデータ\n",
        "                    feature_ids = torch.reshape(val_transform(image),(-1, 3, 224, 224)).squeeze(0)\n",
        "                    self.images.append(feature_ids)\n",
        "                    self.categories.append(category)\n",
        "                except:\n",
        "                    print('error')\n",
        "                    pass\n",
        "            else:\n",
        "\n",
        "                try:\n",
        "                    # 学習用の処理を行なっていないデータ\n",
        "                    feature_ids = torch.reshape(val_transform(image),(-1, 3, 224, 224)).squeeze(0)\n",
        "                    self.images.append(feature_ids)\n",
        "                    self.categories.append(category)\n",
        "                except:\n",
        "                    print('error')\n",
        "                    pass\n",
        "\n",
        "    def __len__(self):\n",
        "        return len(self.images)\n",
        "\n",
        "    def __getitem__(self, idx):\n",
        "        return self.images[idx], self.categories[idx]\n",
        "\n"
      ],
      "execution_count": 8,
      "outputs": []
    },
    {
      "cell_type": "markdown",
      "metadata": {
        "id": "-A14L9P0MuXR"
      },
      "source": [
        "# モデルのインポート"
      ]
    },
    {
      "cell_type": "code",
      "metadata": {
        "id": "ndXa5HastxzJ",
        "colab": {
          "base_uri": "https://localhost:8080/",
          "height": 81,
          "referenced_widgets": [
            "a885910e0cb444418a376207519ed1c3",
            "51c781bbcb644025a5ea63a11646ae1c",
            "cdceed48ee344f6fbdf19dde2718f53c",
            "51d810c8dc0b425ca1b6b475ffe72920",
            "9632fd60a2bc4057b7d25df655e89a76",
            "ed5db378cc7749e4aa99af4d51798171",
            "baf758b7c9c94768b7caea716d8081ce",
            "e1a6fc3f71904188970b2daf05402374",
            "cbff1b6964094819abb055555c8a30ea",
            "fd1f6c80691842e9b31f493691b08c22",
            "a61b2194258e47e9b5129b237a37ecc2"
          ]
        },
        "outputId": "05fdeb65-9ed1-46e6-fea3-4676f3d543fd"
      },
      "source": [
        "# 事前学習済みモデルのインポート\n",
        "\n",
        "# モデル本体\n",
        "# 順伝播時の出力にAttentionの結果もほしいときはoutput_attentions=Trueを指定する。\n",
        "vit_model = ViTModel.from_pretrained('google/vit-base-patch16-224-in21k', output_attentions=True)"
      ],
      "execution_count": 10,
      "outputs": [
        {
          "output_type": "display_data",
          "data": {
            "application/vnd.jupyter.widget-view+json": {
              "model_id": "a885910e0cb444418a376207519ed1c3",
              "version_minor": 0,
              "version_major": 2
            },
            "text/plain": [
              "Downloading:   0%|          | 0.00/425 [00:00<?, ?B/s]"
            ]
          },
          "metadata": {}
        },
        {
          "output_type": "display_data",
          "data": {
            "application/vnd.jupyter.widget-view+json": {
              "model_id": "54121591b3594220ae1ccb3eb2ef7a28",
              "version_minor": 0,
              "version_major": 2
            },
            "text/plain": [
              "Downloading:   0%|          | 0.00/330M [00:00<?, ?B/s]"
            ]
          },
          "metadata": {}
        }
      ]
    },
    {
      "cell_type": "markdown",
      "metadata": {
        "id": "WJj5f-j6M5Nl"
      },
      "source": [
        "# 入力サイズを事前学習済みモデルのものと変更する場合は以下のコードを利用"
      ]
    },
    {
      "cell_type": "code",
      "metadata": {
        "id": "L8NyLeHyA90z"
      },
      "source": [
        "# vit_modelの入力サイズをx * xに変更する\n",
        "\n",
        "#configuration = ViTConfig(image_size = (x,x))\n",
        "\n",
        "# Initializing a model from the vit-base-patch16-224 style configuration\n",
        "#vit_model = ViTModel(configuration)"
      ],
      "execution_count": 11,
      "outputs": []
    },
    {
      "cell_type": "markdown",
      "metadata": {
        "id": "ybtOxWIuNomu"
      },
      "source": [
        "# モデルの定義"
      ]
    },
    {
      "cell_type": "code",
      "metadata": {
        "id": "RarSbf2NyHNf"
      },
      "source": [
        "# モデルクラスの宣言\n",
        "\n",
        "class ViTNet(nn.Module):\n",
        "    def __init__(self, pretrained_vit_model, class_num):\n",
        "        super(ViTNet, self).__init__()\n",
        "        self.vit = pretrained_vit_model #学習ずみモデル\n",
        "        self.fc = nn.Linear(768, class_num)\n",
        "\n",
        "    def _get_cls_vec(self, states):\n",
        "        return states['last_hidden_state'][:, 0, :]\n",
        "\n",
        "    def forward(self, input_ids):\n",
        "        states = self.vit(input_ids)\n",
        "        states = self._get_cls_vec(states)\n",
        "        states = self.fc(states)\n",
        "        return states\n",
        "\n",
        "# 今回のデータのカテゴリ（フォルダ数）\n",
        "CLASS_NUM = len(categories)\n",
        "\n",
        "# 事前学習済モデルを引数で渡します。\n",
        "net = ViTNet(vit_model, CLASS_NUM)\n",
        "\n",
        "# GPUの設定\n",
        "device = torch.device(\"cuda\" if torch.cuda.is_available() else \"cpu\")\n",
        "net.to(device)\n",
        "\n",
        "# モデルの初期値を保存する（xxxxに保存するパスを記載してください）\n",
        "model_path = 'xxxxx'\n",
        "torch.save(net.state_dict(),model_path)\n"
      ],
      "execution_count": 12,
      "outputs": []
    },
    {
      "cell_type": "markdown",
      "metadata": {
        "id": "Gxd-2VwhNyTg"
      },
      "source": [
        "# 損失関数（スムースクロスエントロピー）の定義\n",
        "\n",
        "学習する正解ラベルの値を１(100%)とするのではなく、少し減らした値で学習するようにする"
      ]
    },
    {
      "cell_type": "code",
      "metadata": {
        "id": "bw6a3F-LfX4Z"
      },
      "source": [
        "class LabelSmoothingCrossEntropyLoss(nn.Module):\n",
        "    def __init__(self, classes, smoothing=0.0, dim=-1):\n",
        "        super(LabelSmoothingCrossEntropyLoss, self).__init__()\n",
        "        self.confidence = 1.0 - smoothing\n",
        "        self.smoothing = smoothing\n",
        "        self.cls = classes\n",
        "        self.dim = dim\n",
        "\n",
        "    def forward(self, pred, target):\n",
        "        pred = pred.log_softmax(dim=self.dim)\n",
        "        with torch.no_grad():\n",
        "            true_dist = torch.zeros_like(pred)\n",
        "            true_dist.fill_(self.smoothing / (self.cls - 1))\n",
        "            true_dist.scatter_(1, target.data.unsqueeze(1), self.confidence)\n",
        "        return torch.mean(torch.sum(-true_dist * pred, dim=self.dim))"
      ],
      "execution_count": 13,
      "outputs": []
    },
    {
      "cell_type": "markdown",
      "metadata": {
        "id": "8UQk3RZoOo72"
      },
      "source": [
        "# 固定パラメータの指定"
      ]
    },
    {
      "cell_type": "code",
      "metadata": {
        "id": "tKzeFyORz0KX"
      },
      "source": [
        "EPOCHS = 20  # 学習を回す回数\n",
        "BATCH_SIZE = 32 # 一回に並列で演算する個数\n",
        "FOLD_NUM = 5 # 交差検証で分割を行う分割数\n"
      ],
      "execution_count": 14,
      "outputs": []
    },
    {
      "cell_type": "markdown",
      "metadata": {
        "id": "ErJv28FQPSOf"
      },
      "source": [
        "# 学習用の関数の定義"
      ]
    },
    {
      "cell_type": "code",
      "metadata": {
        "id": "rHOurMfIz03H"
      },
      "source": [
        "def train_one(net,train,valid):\n",
        "\n",
        "    # 結果確認用の配列の定義\n",
        "    train_losses = []\n",
        "    val_losses = []\n",
        "    train_fscores = []\n",
        "    train_fscores2 = []\n",
        "    val_fscores = []\n",
        "    val_fscores２ = []\n",
        "    train_accuracies = []\n",
        "    val_accuracies = []\n",
        "\n",
        "    best_val_fscore = 0\n",
        "\n",
        "    for epoch in range(EPOCHS):\n",
        "\n",
        "        # 学習\n",
        "        train_loss = 0.0\n",
        "        train_predict = []\n",
        "        train_answer = []\n",
        "        train_predict2 = []\n",
        "        train_answer2 = []\n",
        "        net.train()\n",
        "        for batch in train_loader:\n",
        "            optimizer.zero_grad() # オプティマイザの初期化\n",
        "\n",
        "            input_ids = batch[0].to(device) # 入力データをGPUに渡す\n",
        "            y = batch[1].to(device) # 入力データをGPUに渡す\n",
        "            out = net(input_ids) # 学習データをモデルに投入\n",
        "            loss = criterion(out, y) # 損失関数を出力\n",
        "            loss.backward() # 誤差逆伝播の実行\n",
        "            optimizer.step() # オプティマイザを更新\n",
        "\n",
        "            # 記録用に出力値を保管\n",
        "            train_predict += out.argmax(dim=1).cpu().detach().numpy().tolist()\n",
        "            train_answer += y.cpu().detach().numpy().tolist()\n",
        "            tmp_predict = out.argmax(dim=1).cpu().detach().numpy()\n",
        "            tmp_predict[tmp_predict > 0] = 1\n",
        "            train_predict2 += tmp_predict.tolist()\n",
        "            tmp_answer = y.cpu().detach().numpy()\n",
        "            tmp_answer[tmp_answer > 0] = 1\n",
        "            train_answer2 += tmp_answer.tolist()\n",
        "            train_loss += loss.item()\n",
        "\n",
        "        # warmupの実装\n",
        "        scheduler_w.step()\n",
        "\n",
        "        # エポックごとの損失の合計とF1-scoreを計算する\n",
        "        train_losses.append(train_loss)\n",
        "        train_fscore = f1_score(train_answer, train_predict, average='macro')\n",
        "        train_fscores.append(train_fscore)\n",
        "        train_fscore2 = f1_score(train_answer2, train_predict2, average='macro')\n",
        "        train_fscores2.append(train_fscore2)\n",
        "        train_accuracy = accuracy_score(train_answer, train_predict)\n",
        "        train_accuracies.append(train_accuracy)\n",
        "\n",
        "        # 検証\n",
        "        val_loss = 0.0\n",
        "        val_predict = []\n",
        "        val_answer = []\n",
        "        val_predict2 = []\n",
        "        val_answer2 = []\n",
        "        net.eval()\n",
        "\n",
        "        # 検証用の処理\n",
        "        for batch in val_loader:\n",
        "            with torch.no_grad(): # 検証モードとして、学習を行わないことを宣言\n",
        "                # モデルへデータを投入し、損失関数を出力\n",
        "                input_ids = batch[0].to(device)\n",
        "                y = batch[1].to(device)\n",
        "                out = net(input_ids)\n",
        "                loss = criterion(out, y)\n",
        "\n",
        "                # 記録用に出力データを保管\n",
        "                val_loss += loss.item()\n",
        "                _, y_pred = torch.max(out, 1)            \n",
        "                val_predict += out.argmax(dim=1).cpu().detach().numpy().tolist()\n",
        "                tmp_predict = out.argmax(dim=1).cpu().detach().numpy()\n",
        "                tmp_predict[tmp_predict > 0] = 1\n",
        "                val_predict2 += tmp_predict.tolist()\n",
        "                val_answer += y.cpu().detach().numpy().tolist()\n",
        "                tmp_answer = y.cpu().detach().numpy()\n",
        "                tmp_answer[tmp_answer > 0] = 1\n",
        "                val_answer2 += tmp_answer.tolist()\n",
        "\n",
        "        # エポックごとの損失の合計とF1-scoreを計算する\n",
        "        val_losses.append(val_loss)\n",
        "        val_fscore = f1_score(val_answer, val_predict, average='macro')\n",
        "        val_fscores.append(val_fscore)\n",
        "        val_fscore2 = f1_score(val_answer2, val_predict2, average='macro')\n",
        "        val_fscores2.append(val_fscore2)\n",
        "        val_accuracy = accuracy_score(val_answer, val_predict)\n",
        "        val_accuracies.append(val_accuracy)\n",
        "\n",
        "        # 損失関数、および精度の値を出力\n",
        "        print('epoch', epoch,\n",
        "            '\\ttrain loss', round(train_loss, 4), '\\ttrain fscore', round(train_fscore, 4) ,'\\ttrain fscore2', round(train_fscore2, 4),'\\ttrain accuracy', round(train_accuracy,4),\n",
        "            '\\tval loss', round(val_loss, 4), '\\tval fscore', round(val_fscore, 4) , '\\tval fscore2', round(val_fscore2, 4) ,'\\tval accuracy', round(val_accuracy,4),\n",
        "            )\n",
        "        \n",
        "        \n",
        "        # 検証データでF scoreの値を更新した時のみベストモデルを更新（過学習対策）\n",
        "        if val_fscore2 > best_val_fscore:\n",
        "            best_model = net\n",
        "            best_train_fscore = train_fscore2\n",
        "            best_val_fscore = val_fscore2\n",
        "\n",
        "\n",
        "    return best_model,best_train_fscore,best_val_fscore"
      ],
      "execution_count": 17,
      "outputs": []
    },
    {
      "cell_type": "markdown",
      "metadata": {
        "id": "KTDra2WWRHVn"
      },
      "source": [
        "# 学習の実行"
      ]
    },
    {
      "cell_type": "code",
      "metadata": {
        "colab": {
          "base_uri": "https://localhost:8080/"
        },
        "id": "-LapgBS5oGJ5",
        "outputId": "998cb005-b0fc-401c-eff2-2f18dcb77c79"
      },
      "source": [
        "# fold毎のモデル、正解率、損失を格納する配列\n",
        "nets, train_fscores, val_fscores = [], [], []\n",
        "\n",
        "y = handa_df.category_id\n",
        "\n",
        "# n_splits分割（ここでは5分割）してCV\n",
        "kf = StratifiedKFold(n_splits=FOLD_NUM, shuffle=True, random_state=2020)\n",
        "\n",
        "i = 0\n",
        "\n",
        "for train_idx, valid_idx in kf.split(handa_df,handa_df.category_id):\n",
        "\n",
        "    # モデルの初期化を毎回実施する\n",
        "    net = ViTNet(vit_model, CLASS_NUM)\n",
        "\n",
        "    # GPU使う\n",
        "    device = torch.device(\"cuda\" if torch.cuda.is_available() else \"cpu\")\n",
        "    net.to(device)\n",
        "\n",
        "    net.load_state_dict(torch.load('/content/default_model.pth'))\n",
        "\n",
        "    # まず全パラメータを勾配計算Falseにする\n",
        "    for param in net.parameters():\n",
        "        param.requires_grad = False\n",
        "        #param.requires_grad = True\n",
        "\n",
        "    # 最終層を勾配計算ありに変更\n",
        "    for param in net.vit.encoder.layer[11].parameters():\n",
        "        param.requires_grad = True\n",
        "\n",
        "    # 最終層を勾配計算ありに変更\n",
        "    for param in net.vit.pooler.parameters():\n",
        "        param.requires_grad = True\n",
        "\n",
        "    # 追加したクラス分類用の全結合層を勾配計算ありに変更\n",
        "    for param in net.fc.parameters():\n",
        "        param.requires_grad = True\n",
        "\n",
        "    # オプティマイザーの選択\n",
        "    optimizer = torch.optim.SGD(net.parameters(), lr=0.1, momentum=0.9, nesterov=False)\n",
        "\n",
        "    # 損失関数\n",
        "    criterion = LabelSmoothingCrossEntropyLoss(classes=4, smoothing=0.05)\n",
        "\n",
        "    scheduler = torch.optim.lr_scheduler.CosineAnnealingLR(optimizer, T_max=EPOCHS)\n",
        "\n",
        "    scheduler_w = warmup_scheduler.GradualWarmupScheduler(optimizer, multiplier=1., total_epoch=5, after_scheduler=scheduler)\n",
        "\n",
        "    # train_idx、valid_idxにはインデックスの値が格納されている\n",
        "    #train = train_data.iloc[train_idx].reset_index(drop=True)\n",
        "    train_data = HandaData(handa_df.iloc[train_idx],'train')\n",
        "    #valid = train_data.iloc[valid_idx].reset_index(drop=True)\n",
        "    val_data = HandaData(handa_df.iloc[valid_idx],'val')\n",
        "\n",
        "    train_loader = DataLoader(train_data, batch_size=BATCH_SIZE, shuffle=True)\n",
        "    val_loader = DataLoader(val_data, batch_size=BATCH_SIZE, shuffle=False)  \n",
        "\n",
        "    # train_one関数では実際の訓練が行われる\n",
        "    trained_net, train_fscore, val_fscore = train_one(net,train_loader, val_loader)\n",
        "    nets.append(trained_net)\n",
        "    train_fscores.append(train_fscore)\n",
        "    val_fscores.append(val_fscore)\n",
        "\n",
        "    # モデルの初期値を保存する\n",
        "    model_path = '/content/fold' + str(i) + '_model.pth'\n",
        "    torch.save(nets[i].state_dict(),model_path)\n",
        "\n",
        "    i += 1\n",
        "\n",
        "# CVの評価としてfold毎のvalidの結果を平均したものを使う（他にも手法はあるが）\n",
        "print(\"oof train_fscore: {:4f}\".format(mean(train_fscores)))\n",
        "print(\"oof val_fscore: {:4f}\".format(mean(val_fscores)))\n"
      ],
      "execution_count": null,
      "outputs": [
        {
          "output_type": "stream",
          "name": "stdout",
          "text": [
            "train\n"
          ]
        },
        {
          "output_type": "stream",
          "name": "stderr",
          "text": [
            "100%|██████████| 232/232 [00:49<00:00,  4.72it/s]\n"
          ]
        },
        {
          "output_type": "stream",
          "name": "stdout",
          "text": [
            "val\n"
          ]
        },
        {
          "output_type": "stream",
          "name": "stderr",
          "text": [
            "100%|██████████| 58/58 [00:06<00:00,  8.37it/s]\n"
          ]
        },
        {
          "output_type": "stream",
          "name": "stdout",
          "text": [
            "epoch 0 \ttrain loss 40.3597 \ttrain fscore 0.1801 \ttrain fscore2 0.4125 \ttrain accuracy 0.2425 \tval loss 2.7913 \tval fscore 0.18 \tval fscore2 0.3958 \tval accuracy 0.2759\n",
            "epoch 1 \ttrain loss 39.1391 \ttrain fscore 0.3084 \ttrain fscore2 0.6212 \ttrain accuracy 0.4397 \tval loss 2.5456 \tval fscore 0.2548 \tval fscore2 0.6416 \tval accuracy 0.431\n",
            "epoch 2 \ttrain loss 33.4429 \ttrain fscore 0.3248 \ttrain fscore2 0.6618 \ttrain accuracy 0.5 \tval loss 2.2659 \tval fscore 0.4045 \tval fscore2 0.7817 \tval accuracy 0.5517\n",
            "epoch 3 \ttrain loss 27.8759 \ttrain fscore 0.5629 \ttrain fscore2 0.7578 \ttrain accuracy 0.6239 \tval loss 2.2275 \tval fscore 0.4434 \tval fscore2 0.8019 \tval accuracy 0.5517\n",
            "epoch 4 \ttrain loss 24.7277 \ttrain fscore 0.637 \ttrain fscore2 0.8264 \ttrain accuracy 0.694 \tval loss 2.1617 \tval fscore 0.4769 \tval fscore2 0.7575 \tval accuracy 0.5345\n",
            "epoch 5 \ttrain loss 21.9801 \ttrain fscore 0.6945 \ttrain fscore2 0.844 \ttrain accuracy 0.7306 \tval loss 2.3261 \tval fscore 0.4282 \tval fscore2 0.7752 \tval accuracy 0.5862\n",
            "epoch 6 \ttrain loss 17.8861 \ttrain fscore 0.8225 \ttrain fscore2 0.9025 \ttrain accuracy 0.833 \tval loss 1.4589 \tval fscore 0.8085 \tval fscore2 0.8611 \tval accuracy 0.7931\n",
            "epoch 7 \ttrain loss 13.9566 \ttrain fscore 0.9063 \ttrain fscore2 0.9475 \ttrain accuracy 0.9062 \tval loss 1.4925 \tval fscore 0.7422 \tval fscore2 0.9057 \tval accuracy 0.7586\n",
            "epoch 8 \ttrain loss 10.4093 \ttrain fscore 0.9739 \ttrain fscore2 0.9762 \ttrain accuracy 0.972 \tval loss 2.0899 \tval fscore 0.6167 \tval fscore2 0.8568 \tval accuracy 0.6724\n",
            "epoch 9 \ttrain loss 9.8996 \ttrain fscore 0.9862 \ttrain fscore2 0.9881 \ttrain accuracy 0.9849 \tval loss 1.8373 \tval fscore 0.681 \tval fscore2 0.8752 \tval accuracy 0.7241\n",
            "epoch 10 \ttrain loss 9.2749 \ttrain fscore 0.9894 \ttrain fscore2 0.9952 \ttrain accuracy 0.9903 \tval loss 1.3077 \tval fscore 0.759 \tval fscore2 0.8826 \tval accuracy 0.7586\n",
            "epoch 11 \ttrain loss 8.1715 \ttrain fscore 1.0 \ttrain fscore2 1.0 \ttrain accuracy 1.0 \tval loss 1.2948 \tval fscore 0.805 \tval fscore2 0.9034 \tval accuracy 0.7931\n",
            "epoch 12 \ttrain loss 7.8361 \ttrain fscore 1.0 \ttrain fscore2 1.0 \ttrain accuracy 1.0 \tval loss 1.2796 \tval fscore 0.8505 \tval fscore2 0.9057 \tval accuracy 0.8276\n",
            "epoch 13 \ttrain loss 7.7162 \ttrain fscore 1.0 \ttrain fscore2 1.0 \ttrain accuracy 1.0 \tval loss 1.2866 \tval fscore 0.8233 \tval fscore2 0.9057 \tval accuracy 0.8103\n",
            "epoch 14 \ttrain loss 7.6606 \ttrain fscore 1.0 \ttrain fscore2 1.0 \ttrain accuracy 1.0 \tval loss 1.2823 \tval fscore 0.8246 \tval fscore2 0.9034 \tval accuracy 0.8103\n",
            "epoch 15 \ttrain loss 7.6255 \ttrain fscore 1.0 \ttrain fscore2 1.0 \ttrain accuracy 1.0 \tval loss 1.2688 \tval fscore 0.8089 \tval fscore2 0.9034 \tval accuracy 0.7931\n",
            "epoch 16 \ttrain loss 7.597 \ttrain fscore 1.0 \ttrain fscore2 1.0 \ttrain accuracy 1.0 \tval loss 1.2598 \tval fscore 0.8089 \tval fscore2 0.9034 \tval accuracy 0.7931\n",
            "epoch 17 \ttrain loss 7.5794 \ttrain fscore 1.0 \ttrain fscore2 1.0 \ttrain accuracy 1.0 \tval loss 1.2709 \tval fscore 0.8358 \tval fscore2 0.9034 \tval accuracy 0.8103\n",
            "epoch 18 \ttrain loss 7.5636 \ttrain fscore 1.0 \ttrain fscore2 1.0 \ttrain accuracy 1.0 \tval loss 1.2646 \tval fscore 0.8089 \tval fscore2 0.9034 \tval accuracy 0.7931\n",
            "epoch 19 \ttrain loss 7.5525 \ttrain fscore 1.0 \ttrain fscore2 1.0 \ttrain accuracy 1.0 \tval loss 1.2677 \tval fscore 0.8358 \tval fscore2 0.9034 \tval accuracy 0.8103\n",
            "train\n"
          ]
        },
        {
          "output_type": "stream",
          "name": "stderr",
          "text": [
            "100%|██████████| 232/232 [00:49<00:00,  4.69it/s]\n"
          ]
        },
        {
          "output_type": "stream",
          "name": "stdout",
          "text": [
            "val\n"
          ]
        },
        {
          "output_type": "stream",
          "name": "stderr",
          "text": [
            "100%|██████████| 58/58 [00:06<00:00,  8.95it/s]\n"
          ]
        },
        {
          "output_type": "stream",
          "name": "stdout",
          "text": [
            "epoch 0 \ttrain loss 40.3787 \ttrain fscore 0.1884 \ttrain fscore2 0.4149 \ttrain accuracy 0.2554 \tval loss 2.793 \tval fscore 0.1422 \tval fscore2 0.3958 \tval accuracy 0.2069\n",
            "epoch 1 \ttrain loss 39.3425 \ttrain fscore 0.2722 \ttrain fscore2 0.5739 \ttrain accuracy 0.4159 \tval loss 2.5132 \tval fscore 0.2949 \tval fscore2 0.6548 \tval accuracy 0.5172\n",
            "epoch 2 \ttrain loss 34.4554 \ttrain fscore 0.3179 \ttrain fscore2 0.6395 \ttrain accuracy 0.4784 \tval loss 2.229 \tval fscore 0.3578 \tval fscore2 0.735 \tval accuracy 0.5517\n",
            "epoch 3 \ttrain loss 28.1781 \ttrain fscore 0.588 \ttrain fscore2 0.7222 \ttrain accuracy 0.6207 \tval loss 1.9608 \tval fscore 0.5943 \tval fscore2 0.7968 \tval accuracy 0.6897\n",
            "epoch 4 \ttrain loss 22.1976 \ttrain fscore 0.7353 \ttrain fscore2 0.829 \ttrain accuracy 0.7511 \tval loss 1.8336 \tval fscore 0.6927 \tval fscore2 0.8092 \tval accuracy 0.7241\n",
            "epoch 5 \ttrain loss 21.7475 \ttrain fscore 0.7544 \ttrain fscore2 0.8093 \ttrain accuracy 0.7425 \tval loss 1.6899 \tval fscore 0.7065 \tval fscore2 0.8611 \tval accuracy 0.7414\n",
            "epoch 6 \ttrain loss 17.4988 \ttrain fscore 0.8394 \ttrain fscore2 0.8944 \ttrain accuracy 0.8394 \tval loss 1.9104 \tval fscore 0.7493 \tval fscore2 0.8019 \tval accuracy 0.7586\n",
            "epoch 7 \ttrain loss 14.8273 \ttrain fscore 0.8862 \ttrain fscore2 0.9218 \ttrain accuracy 0.8782 \tval loss 1.5561 \tval fscore 0.7789 \tval fscore2 0.8389 \tval accuracy 0.7586\n",
            "epoch 8 \ttrain loss 12.7718 \ttrain fscore 0.9336 \ttrain fscore2 0.9358 \ttrain accuracy 0.9246 \tval loss 1.4824 \tval fscore 0.7939 \tval fscore2 0.9034 \tval accuracy 0.8103\n",
            "epoch 9 \ttrain loss 9.6683 \ttrain fscore 0.9906 \ttrain fscore2 0.9881 \ttrain accuracy 0.9881 \tval loss 1.454 \tval fscore 0.7788 \tval fscore2 0.8826 \tval accuracy 0.8103\n",
            "epoch 10 \ttrain loss 8.7332 \ttrain fscore 0.9985 \ttrain fscore2 0.9976 \ttrain accuracy 0.9978 \tval loss 1.3775 \tval fscore 0.8525 \tval fscore2 0.9034 \tval accuracy 0.8448\n",
            "epoch 11 \ttrain loss 8.1717 \ttrain fscore 1.0 \ttrain fscore2 1.0 \ttrain accuracy 1.0 \tval loss 1.4154 \tval fscore 0.8262 \tval fscore2 0.8826 \tval accuracy 0.8276\n",
            "epoch 12 \ttrain loss 7.9388 \ttrain fscore 1.0 \ttrain fscore2 1.0 \ttrain accuracy 1.0 \tval loss 1.3431 \tval fscore 0.8554 \tval fscore2 0.8855 \tval accuracy 0.8448\n",
            "epoch 13 \ttrain loss 7.7911 \ttrain fscore 1.0 \ttrain fscore2 1.0 \ttrain accuracy 1.0 \tval loss 1.3446 \tval fscore 0.8525 \tval fscore2 0.9034 \tval accuracy 0.8448\n",
            "epoch 14 \ttrain loss 7.7323 \ttrain fscore 1.0 \ttrain fscore2 1.0 \ttrain accuracy 1.0 \tval loss 1.3403 \tval fscore 0.8525 \tval fscore2 0.9034 \tval accuracy 0.8448\n",
            "epoch 15 \ttrain loss 7.6825 \ttrain fscore 1.0 \ttrain fscore2 1.0 \ttrain accuracy 1.0 \tval loss 1.3339 \tval fscore 0.8554 \tval fscore2 0.8855 \tval accuracy 0.8448\n",
            "epoch 16 \ttrain loss 7.6526 \ttrain fscore 1.0 \ttrain fscore2 1.0 \ttrain accuracy 1.0 \tval loss 1.3313 \tval fscore 0.8554 \tval fscore2 0.8855 \tval accuracy 0.8448\n",
            "epoch 17 \ttrain loss 7.6238 \ttrain fscore 1.0 \ttrain fscore2 1.0 \ttrain accuracy 1.0 \tval loss 1.3374 \tval fscore 0.8525 \tval fscore2 0.9034 \tval accuracy 0.8448\n",
            "epoch 18 \ttrain loss 7.6041 \ttrain fscore 1.0 \ttrain fscore2 1.0 \ttrain accuracy 1.0 \tval loss 1.3289 \tval fscore 0.8554 \tval fscore2 0.8855 \tval accuracy 0.8448\n",
            "epoch 19 \ttrain loss 7.5913 \ttrain fscore 1.0 \ttrain fscore2 1.0 \ttrain accuracy 1.0 \tval loss 1.3338 \tval fscore 0.8554 \tval fscore2 0.8855 \tval accuracy 0.8448\n",
            "train\n"
          ]
        },
        {
          "output_type": "stream",
          "name": "stderr",
          "text": [
            "100%|██████████| 232/232 [00:48<00:00,  4.80it/s]\n"
          ]
        },
        {
          "output_type": "stream",
          "name": "stdout",
          "text": [
            "val\n"
          ]
        },
        {
          "output_type": "stream",
          "name": "stderr",
          "text": [
            "100%|██████████| 58/58 [00:06<00:00,  8.38it/s]\n"
          ]
        },
        {
          "output_type": "stream",
          "name": "stdout",
          "text": [
            "epoch 0 \ttrain loss 40.3657 \ttrain fscore 0.1856 \ttrain fscore2 0.4116 \ttrain accuracy 0.2608 \tval loss 2.7774 \tval fscore 0.1978 \tval fscore2 0.3958 \tval accuracy 0.2414\n",
            "epoch 1 \ttrain loss 38.9672 \ttrain fscore 0.2743 \ttrain fscore2 0.5962 \ttrain accuracy 0.4289 \tval loss 2.514 \tval fscore 0.25 \tval fscore2 0.5977 \tval accuracy 0.4483\n",
            "epoch 2 \ttrain loss 33.3813 \ttrain fscore 0.3616 \ttrain fscore2 0.7039 \ttrain accuracy 0.5129 \tval loss 2.2111 \tval fscore 0.3844 \tval fscore2 0.6641 \tval accuracy 0.5172\n",
            "epoch 3 \ttrain loss 27.9391 \ttrain fscore 0.5709 \ttrain fscore2 0.7637 \ttrain accuracy 0.6293 \tval loss 2.0319 \tval fscore 0.4629 \tval fscore2 0.7891 \tval accuracy 0.6207\n",
            "epoch 4 \ttrain loss 27.3508 \ttrain fscore 0.608 \ttrain fscore2 0.8019 \ttrain accuracy 0.653 \tval loss 2.2552 \tval fscore 0.5647 \tval fscore2 0.7407 \tval accuracy 0.6207\n",
            "epoch 5 \ttrain loss 24.1721 \ttrain fscore 0.7415 \ttrain fscore2 0.8119 \ttrain accuracy 0.7403 \tval loss 1.6316 \tval fscore 0.7274 \tval fscore2 0.8366 \tval accuracy 0.7241\n",
            "epoch 6 \ttrain loss 18.5405 \ttrain fscore 0.8276 \ttrain fscore2 0.8874 \ttrain accuracy 0.8211 \tval loss 2.0125 \tval fscore 0.5908 \tval fscore2 0.7891 \tval accuracy 0.6552\n",
            "epoch 7 \ttrain loss 14.7506 \ttrain fscore 0.8983 \ttrain fscore2 0.9268 \ttrain accuracy 0.8955 \tval loss 1.7137 \tval fscore 0.7625 \tval fscore2 0.8902 \tval accuracy 0.7759\n",
            "epoch 8 \ttrain loss 11.3321 \ttrain fscore 0.9572 \ttrain fscore2 0.9726 \ttrain accuracy 0.958 \tval loss 1.502 \tval fscore 0.7955 \tval fscore2 0.9254 \tval accuracy 0.7931\n",
            "epoch 9 \ttrain loss 9.3453 \ttrain fscore 0.9905 \ttrain fscore2 0.9929 \ttrain accuracy 0.9914 \tval loss 1.4268 \tval fscore 0.8309 \tval fscore2 0.9254 \tval accuracy 0.8276\n",
            "epoch 10 \ttrain loss 8.4707 \ttrain fscore 0.9972 \ttrain fscore2 0.9988 \ttrain accuracy 0.9978 \tval loss 1.3224 \tval fscore 0.8309 \tval fscore2 0.9254 \tval accuracy 0.8276\n",
            "epoch 11 \ttrain loss 7.9917 \ttrain fscore 1.0 \ttrain fscore2 1.0 \ttrain accuracy 1.0 \tval loss 1.3459 \tval fscore 0.8185 \tval fscore2 0.9076 \tval accuracy 0.8103\n",
            "epoch 12 \ttrain loss 7.8114 \ttrain fscore 1.0 \ttrain fscore2 1.0 \ttrain accuracy 1.0 \tval loss 1.3225 \tval fscore 0.8358 \tval fscore2 0.9076 \tval accuracy 0.8276\n",
            "epoch 13 \ttrain loss 7.7369 \ttrain fscore 1.0 \ttrain fscore2 1.0 \ttrain accuracy 1.0 \tval loss 1.3249 \tval fscore 0.8479 \tval fscore2 0.9254 \tval accuracy 0.8448\n",
            "epoch 14 \ttrain loss 7.6758 \ttrain fscore 1.0 \ttrain fscore2 1.0 \ttrain accuracy 1.0 \tval loss 1.3069 \tval fscore 0.8479 \tval fscore2 0.9254 \tval accuracy 0.8448\n",
            "epoch 15 \ttrain loss 7.6408 \ttrain fscore 1.0 \ttrain fscore2 1.0 \ttrain accuracy 1.0 \tval loss 1.2832 \tval fscore 0.8479 \tval fscore2 0.9254 \tval accuracy 0.8448\n",
            "epoch 16 \ttrain loss 7.6129 \ttrain fscore 1.0 \ttrain fscore2 1.0 \ttrain accuracy 1.0 \tval loss 1.2926 \tval fscore 0.8479 \tval fscore2 0.9254 \tval accuracy 0.8448\n",
            "epoch 17 \ttrain loss 7.5925 \ttrain fscore 1.0 \ttrain fscore2 1.0 \ttrain accuracy 1.0 \tval loss 1.3005 \tval fscore 0.8479 \tval fscore2 0.9254 \tval accuracy 0.8448\n",
            "epoch 18 \ttrain loss 7.5772 \ttrain fscore 1.0 \ttrain fscore2 1.0 \ttrain accuracy 1.0 \tval loss 1.2853 \tval fscore 0.8479 \tval fscore2 0.9254 \tval accuracy 0.8448\n",
            "epoch 19 \ttrain loss 7.5682 \ttrain fscore 1.0 \ttrain fscore2 1.0 \ttrain accuracy 1.0 \tval loss 1.286 \tval fscore 0.8479 \tval fscore2 0.9254 \tval accuracy 0.8448\n",
            "train\n"
          ]
        },
        {
          "output_type": "stream",
          "name": "stderr",
          "text": [
            "100%|██████████| 232/232 [00:47<00:00,  4.85it/s]\n"
          ]
        },
        {
          "output_type": "stream",
          "name": "stdout",
          "text": [
            "val\n"
          ]
        },
        {
          "output_type": "stream",
          "name": "stderr",
          "text": [
            "100%|██████████| 58/58 [00:07<00:00,  8.14it/s]\n"
          ]
        },
        {
          "output_type": "stream",
          "name": "stdout",
          "text": [
            "epoch 0 \ttrain loss 40.3402 \ttrain fscore 0.193 \ttrain fscore2 0.4059 \ttrain accuracy 0.264 \tval loss 2.7925 \tval fscore 0.1347 \tval fscore2 0.3958 \tval accuracy 0.2069\n",
            "epoch 1 \ttrain loss 39.2556 \ttrain fscore 0.3098 \ttrain fscore2 0.6388 \ttrain accuracy 0.4429 \tval loss 2.6008 \tval fscore 0.246 \tval fscore2 0.5818 \tval accuracy 0.4483\n",
            "epoch 2 \ttrain loss 33.8887 \ttrain fscore 0.3117 \ttrain fscore2 0.6722 \ttrain accuracy 0.4881 \tval loss 2.3202 \tval fscore 0.2938 \tval fscore2 0.6535 \tval accuracy 0.5\n",
            "epoch 3 \ttrain loss 30.6775 \ttrain fscore 0.4562 \ttrain fscore2 0.7444 \ttrain accuracy 0.5711 \tval loss 2.0482 \tval fscore 0.3722 \tval fscore2 0.5657 \tval accuracy 0.5\n",
            "epoch 4 \ttrain loss 26.4765 \ttrain fscore 0.6161 \ttrain fscore2 0.7942 \ttrain accuracy 0.6519 \tval loss 1.7152 \tval fscore 0.6922 \tval fscore2 0.7181 \tval accuracy 0.6897\n",
            "epoch 5 \ttrain loss 23.7568 \ttrain fscore 0.7126 \ttrain fscore2 0.8116 \ttrain accuracy 0.7144 \tval loss 2.2151 \tval fscore 0.5422 \tval fscore2 0.5842 \tval accuracy 0.5517\n",
            "epoch 6 \ttrain loss 21.7048 \ttrain fscore 0.7512 \ttrain fscore2 0.8052 \ttrain accuracy 0.7403 \tval loss 2.1932 \tval fscore 0.6326 \tval fscore2 0.7277 \tval accuracy 0.6379\n",
            "epoch 7 \ttrain loss 17.3521 \ttrain fscore 0.8461 \ttrain fscore2 0.8935 \ttrain accuracy 0.8416 \tval loss 1.68 \tval fscore 0.7961 \tval fscore2 0.7842 \tval accuracy 0.7586\n",
            "epoch 8 \ttrain loss 13.1353 \ttrain fscore 0.9179 \ttrain fscore2 0.952 \ttrain accuracy 0.9159 \tval loss 1.5226 \tval fscore 0.7636 \tval fscore2 0.868 \tval accuracy 0.7586\n",
            "epoch 9 \ttrain loss 10.8459 \ttrain fscore 0.958 \ttrain fscore2 0.9797 \ttrain accuracy 0.9569 \tval loss 1.4708 \tval fscore 0.8281 \tval fscore2 0.8648 \tval accuracy 0.8103\n",
            "epoch 10 \ttrain loss 8.9922 \ttrain fscore 0.9933 \ttrain fscore2 0.9976 \ttrain accuracy 0.9935 \tval loss 1.3544 \tval fscore 0.8405 \tval fscore2 0.8389 \tval accuracy 0.8103\n",
            "epoch 11 \ttrain loss 8.2558 \ttrain fscore 1.0 \ttrain fscore2 1.0 \ttrain accuracy 1.0 \tval loss 1.2518 \tval fscore 0.8761 \tval fscore2 0.888 \tval accuracy 0.8621\n",
            "epoch 12 \ttrain loss 7.9202 \ttrain fscore 1.0 \ttrain fscore2 1.0 \ttrain accuracy 1.0 \tval loss 1.1798 \tval fscore 0.8883 \tval fscore2 0.9057 \tval accuracy 0.8793\n",
            "epoch 13 \ttrain loss 7.7733 \ttrain fscore 1.0 \ttrain fscore2 1.0 \ttrain accuracy 1.0 \tval loss 1.198 \tval fscore 0.9057 \tval fscore2 0.9237 \tval accuracy 0.8966\n",
            "epoch 14 \ttrain loss 7.7079 \ttrain fscore 1.0 \ttrain fscore2 1.0 \ttrain accuracy 1.0 \tval loss 1.1926 \tval fscore 0.8888 \tval fscore2 0.9237 \tval accuracy 0.8793\n",
            "epoch 15 \ttrain loss 7.6585 \ttrain fscore 1.0 \ttrain fscore2 1.0 \ttrain accuracy 1.0 \tval loss 1.1793 \tval fscore 0.8888 \tval fscore2 0.9237 \tval accuracy 0.8793\n",
            "epoch 16 \ttrain loss 7.6283 \ttrain fscore 1.0 \ttrain fscore2 1.0 \ttrain accuracy 1.0 \tval loss 1.2033 \tval fscore 0.8764 \tval fscore2 0.9057 \tval accuracy 0.8621\n",
            "epoch 17 \ttrain loss 7.6085 \ttrain fscore 1.0 \ttrain fscore2 1.0 \ttrain accuracy 1.0 \tval loss 1.1918 \tval fscore 0.8888 \tval fscore2 0.9237 \tval accuracy 0.8793\n",
            "epoch 18 \ttrain loss 7.5904 \ttrain fscore 1.0 \ttrain fscore2 1.0 \ttrain accuracy 1.0 \tval loss 1.1871 \tval fscore 0.8764 \tval fscore2 0.9057 \tval accuracy 0.8621\n",
            "epoch 19 \ttrain loss 7.5751 \ttrain fscore 1.0 \ttrain fscore2 1.0 \ttrain accuracy 1.0 \tval loss 1.1793 \tval fscore 0.8888 \tval fscore2 0.9237 \tval accuracy 0.8793\n",
            "train\n"
          ]
        },
        {
          "output_type": "stream",
          "name": "stderr",
          "text": [
            "100%|██████████| 232/232 [00:47<00:00,  4.86it/s]\n"
          ]
        },
        {
          "output_type": "stream",
          "name": "stdout",
          "text": [
            "val\n"
          ]
        },
        {
          "output_type": "stream",
          "name": "stderr",
          "text": [
            "100%|██████████| 58/58 [00:07<00:00,  8.18it/s]\n"
          ]
        },
        {
          "output_type": "stream",
          "name": "stdout",
          "text": [
            "epoch 0 \ttrain loss 40.3817 \ttrain fscore 0.1783 \ttrain fscore2 0.3988 \ttrain accuracy 0.2425 \tval loss 2.7915 \tval fscore 0.2307 \tval fscore2 0.4476 \tval accuracy 0.3103\n",
            "epoch 1 \ttrain loss 38.6815 \ttrain fscore 0.2746 \ttrain fscore2 0.6103 \ttrain accuracy 0.445 \tval loss 2.5581 \tval fscore 0.2674 \tval fscore2 0.64 \tval accuracy 0.4655\n",
            "epoch 2 \ttrain loss 33.0218 \ttrain fscore 0.3502 \ttrain fscore2 0.6832 \ttrain accuracy 0.5119 \tval loss 2.2838 \tval fscore 0.3484 \tval fscore2 0.5842 \tval accuracy 0.4655\n",
            "epoch 3 \ttrain loss 28.5737 \ttrain fscore 0.5335 \ttrain fscore2 0.7292 \ttrain accuracy 0.6024 \tval loss 2.1228 \tval fscore 0.4072 \tval fscore2 0.638 \tval accuracy 0.5345\n",
            "epoch 4 \ttrain loss 23.6546 \ttrain fscore 0.6993 \ttrain fscore2 0.8193 \ttrain accuracy 0.722 \tval loss 2.0361 \tval fscore 0.6014 \tval fscore2 0.6715 \tval accuracy 0.6034\n",
            "epoch 5 \ttrain loss 19.8388 \ttrain fscore 0.794 \ttrain fscore2 0.8606 \ttrain accuracy 0.7909 \tval loss 1.853 \tval fscore 0.648 \tval fscore2 0.8366 \tval accuracy 0.7414\n",
            "epoch 6 \ttrain loss 17.2458 \ttrain fscore 0.859 \ttrain fscore2 0.8754 \ttrain accuracy 0.8459 \tval loss 1.779 \tval fscore 0.7543 \tval fscore2 0.8057 \tval accuracy 0.7586\n",
            "epoch 7 \ttrain loss 12.046 \ttrain fscore 0.9495 \ttrain fscore2 0.9631 \ttrain accuracy 0.9472 \tval loss 1.597 \tval fscore 0.7069 \tval fscore2 0.8092 \tval accuracy 0.7241\n",
            "epoch 8 \ttrain loss 10.2817 \ttrain fscore 0.9799 \ttrain fscore2 0.9904 \ttrain accuracy 0.9795 \tval loss 1.8266 \tval fscore 0.6821 \tval fscore2 0.7575 \tval accuracy 0.7069\n",
            "epoch 9 \ttrain loss 8.9964 \ttrain fscore 0.9947 \ttrain fscore2 0.9976 \ttrain accuracy 0.9957 \tval loss 1.3684 \tval fscore 0.8381 \tval fscore2 0.9076 \tval accuracy 0.8621\n",
            "epoch 10 \ttrain loss 8.1653 \ttrain fscore 1.0 \ttrain fscore2 1.0 \ttrain accuracy 1.0 \tval loss 1.4726 \tval fscore 0.7743 \tval fscore2 0.8919 \tval accuracy 0.8103\n",
            "epoch 11 \ttrain loss 7.8938 \ttrain fscore 1.0 \ttrain fscore2 1.0 \ttrain accuracy 1.0 \tval loss 1.3711 \tval fscore 0.7553 \tval fscore2 0.8919 \tval accuracy 0.7931\n",
            "epoch 12 \ttrain loss 7.7657 \ttrain fscore 1.0 \ttrain fscore2 1.0 \ttrain accuracy 1.0 \tval loss 1.3897 \tval fscore 0.771 \tval fscore2 0.8919 \tval accuracy 0.8103\n",
            "epoch 13 \ttrain loss 7.6878 \ttrain fscore 1.0 \ttrain fscore2 1.0 \ttrain accuracy 1.0 \tval loss 1.3999 \tval fscore 0.7553 \tval fscore2 0.8919 \tval accuracy 0.7931\n",
            "epoch 14 \ttrain loss 7.6412 \ttrain fscore 1.0 \ttrain fscore2 1.0 \ttrain accuracy 1.0 \tval loss 1.418 \tval fscore 0.7743 \tval fscore2 0.8919 \tval accuracy 0.8103\n",
            "epoch 15 \ttrain loss 7.607 \ttrain fscore 1.0 \ttrain fscore2 1.0 \ttrain accuracy 1.0 \tval loss 1.4101 \tval fscore 0.7743 \tval fscore2 0.8919 \tval accuracy 0.8103\n",
            "epoch 16 \ttrain loss 7.5789 \ttrain fscore 1.0 \ttrain fscore2 1.0 \ttrain accuracy 1.0 \tval loss 1.3858 \tval fscore 0.7743 \tval fscore2 0.8919 \tval accuracy 0.8103\n",
            "epoch 17 \ttrain loss 7.5633 \ttrain fscore 1.0 \ttrain fscore2 1.0 \ttrain accuracy 1.0 \tval loss 1.3974 \tval fscore 0.7553 \tval fscore2 0.8919 \tval accuracy 0.7931\n",
            "epoch 18 \ttrain loss 7.5508 \ttrain fscore 1.0 \ttrain fscore2 1.0 \ttrain accuracy 1.0 \tval loss 1.3907 \tval fscore 0.7743 \tval fscore2 0.8919 \tval accuracy 0.8103\n",
            "epoch 19 \ttrain loss 7.5413 \ttrain fscore 1.0 \ttrain fscore2 1.0 \ttrain accuracy 1.0 \tval loss 1.4103 \tval fscore 0.7553 \tval fscore2 0.8919 \tval accuracy 0.7931\n",
            "oof train_fscore: 0.970717\n",
            "oof val_fscore: 0.913155\n"
          ]
        }
      ]
    },
    {
      "cell_type": "code",
      "metadata": {
        "colab": {
          "base_uri": "https://localhost:8080/",
          "height": 335
        },
        "id": "ic5MyOpXjMjh",
        "outputId": "64003309-034b-4f4a-e265-0059b53f0b9e"
      },
      "source": [
        "import matplotlib.pyplot as plt\n",
        "\n",
        "plt.figure(figsize=(15,5))\n",
        "\n",
        "plt.plot(train_fscores, '-o', label='train_fscores')\n",
        "plt.plot(val_fscores, '-^', label='val_fscores')\n",
        "plt.title('fscore')\n",
        "plt.legend()\n",
        "plt.grid()\n",
        "\n",
        "\n",
        "plt.show()"
      ],
      "execution_count": null,
      "outputs": [
        {
          "output_type": "display_data",
          "data": {
            "image/png": "[encoded data removed]",
            "text/plain": [
              "<Figure size 1080x360 with 1 Axes>"
            ]
          },
          "metadata": {
            "needs_background": "light"
          }
        }
      ]
    }
  ]
}